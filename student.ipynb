{
 "cells": [
  {
   "cell_type": "markdown",
   "metadata": {},
   "source": [
    "## Final Project Submission\n",
    "\n",
    "Please fill out:\n",
    "* Student name: Tia Plagata\n",
    "* Student pace: full time\n",
    "* Scheduled project review date/time: \n",
    "* Instructor name: Rafael Carrasco\n",
    "* Blog post URL: \n"
   ]
  },
  {
   "cell_type": "markdown",
   "metadata": {},
   "source": [
    "## Data Importation & Preparation ##"
   ]
  },
  {
   "cell_type": "markdown",
   "metadata": {},
   "source": [
    "**1) Unzipping Data Files using Patool Library**"
   ]
  },
  {
   "cell_type": "code",
   "execution_count": 23,
   "metadata": {},
   "outputs": [
    {
     "name": "stdout",
     "output_type": "stream",
     "text": [
      "Collecting patool\n",
      "  Downloading patool-1.12-py2.py3-none-any.whl (77 kB)\n",
      "\u001b[K     |████████████████████████████████| 77 kB 1.1 MB/s eta 0:00:01\n",
      "\u001b[?25hInstalling collected packages: patool\n",
      "Successfully installed patool-1.12\n"
     ]
    }
   ],
   "source": [
    "! pip install patool"
   ]
  },
  {
   "cell_type": "code",
   "execution_count": 25,
   "metadata": {},
   "outputs": [],
   "source": [
    "import patoolib\n",
    "import os"
   ]
  },
  {
   "cell_type": "code",
   "execution_count": 26,
   "metadata": {},
   "outputs": [],
   "source": [
    "os.chdir(\"/Users/jordanrjohnson/DataScienceCourseMaterial/phase_1/phase_1_project/dsc-phase-1-project-online/zippedData\")"
   ]
  },
  {
   "cell_type": "code",
   "execution_count": 28,
   "metadata": {},
   "outputs": [
    {
     "data": {
      "text/plain": [
       "['imdb.title.crew.csv.gz',\n",
       " '.DS_Store',\n",
       " 'tmdb.movies.csv.gz',\n",
       " 'upzipped data',\n",
       " 'imdb.title.akas.csv.gz',\n",
       " 'imdb.title.ratings.csv.gz',\n",
       " 'imdb.name.basics.csv.gz',\n",
       " 'rt.reviews.tsv.gz',\n",
       " 'imdb.title.basics.csv.gz',\n",
       " 'rt.movie_info.tsv.gz',\n",
       " 'tn.movie_budgets.csv.gz',\n",
       " 'bom.movie_gross.csv.gz',\n",
       " 'imdb.title.principals.csv.gz']"
      ]
     },
     "execution_count": 28,
     "metadata": {},
     "output_type": "execute_result"
    }
   ],
   "source": [
    "os.listdir()"
   ]
  },
  {
   "cell_type": "code",
   "execution_count": 30,
   "metadata": {},
   "outputs": [
    {
     "name": "stdout",
     "output_type": "stream",
     "text": [
      "patool: Extracting imdb.title.crew.csv.gz ...\n",
      "patool: running '/usr/bin/gzip' -c -d -- 'imdb.title.crew.csv.gz' > './Unpack_3r3gnlpw/imdb.title.crew.csv'\n",
      "patool:     with shell='True'\n",
      "patool: ... imdb.title.crew.csv.gz extracted to `imdb.title.crew.csv'.\n"
     ]
    },
    {
     "data": {
      "text/plain": [
       "'imdb.title.crew.csv'"
      ]
     },
     "execution_count": 30,
     "metadata": {},
     "output_type": "execute_result"
    }
   ],
   "source": [
    "patoolib.extract_archive('imdb.title.crew.csv.gz')"
   ]
  },
  {
   "cell_type": "code",
   "execution_count": 36,
   "metadata": {},
   "outputs": [
    {
     "name": "stdout",
     "output_type": "stream",
     "text": [
      "patool: Extracting bom.movie_gross.csv.gz ...\n",
      "patool: running '/usr/bin/gzip' -c -d -- 'bom.movie_gross.csv.gz' > './Unpack_q4h9pv75/bom.movie_gross.csv'\n",
      "patool:     with shell='True'\n",
      "patool: ... bom.movie_gross.csv.gz extracted to `bom.movie_gross.csv'.\n"
     ]
    },
    {
     "data": {
      "text/plain": [
       "'bom.movie_gross.csv'"
      ]
     },
     "execution_count": 36,
     "metadata": {},
     "output_type": "execute_result"
    }
   ],
   "source": [
    "patoolib.extract_archive('bom.movie_gross.csv.gz')"
   ]
  },
  {
   "cell_type": "code",
   "execution_count": 40,
   "metadata": {},
   "outputs": [
    {
     "name": "stdout",
     "output_type": "stream",
     "text": [
      "patool: Extracting imdb.title.basics.csv.gz ...\n",
      "patool: running '/usr/bin/gzip' -c -d -- 'imdb.title.basics.csv.gz' > './Unpack_2h_25kjr/imdb.title.basics.csv'\n",
      "patool:     with shell='True'\n",
      "patool: ... imdb.title.basics.csv.gz extracted to `imdb.title.basics.csv'.\n"
     ]
    },
    {
     "data": {
      "text/plain": [
       "'imdb.title.basics.csv'"
      ]
     },
     "execution_count": 40,
     "metadata": {},
     "output_type": "execute_result"
    }
   ],
   "source": [
    "patoolib.extract_archive('imdb.title.basics.csv.gz')"
   ]
  },
  {
   "cell_type": "code",
   "execution_count": 44,
   "metadata": {},
   "outputs": [
    {
     "name": "stdout",
     "output_type": "stream",
     "text": [
      "patool: Extracting imdb.title.ratings.csv.gz ...\n",
      "patool: running '/usr/bin/gzip' -c -d -- 'imdb.title.ratings.csv.gz' > './Unpack_bewuh5_j/imdb.title.ratings.csv'\n",
      "patool:     with shell='True'\n",
      "patool: ... imdb.title.ratings.csv.gz extracted to `imdb.title.ratings.csv'.\n"
     ]
    },
    {
     "data": {
      "text/plain": [
       "'imdb.title.ratings.csv'"
      ]
     },
     "execution_count": 44,
     "metadata": {},
     "output_type": "execute_result"
    }
   ],
   "source": [
    "patoolib.extract_archive('imdb.title.ratings.csv.gz')"
   ]
  },
  {
   "cell_type": "code",
   "execution_count": 48,
   "metadata": {},
   "outputs": [
    {
     "name": "stdout",
     "output_type": "stream",
     "text": [
      "patool: Extracting tn.movie_budgets.csv.gz ...\n",
      "patool: running '/usr/bin/gzip' -c -d -- 'tn.movie_budgets.csv.gz' > './Unpack_g8rk87_u/tn.movie_budgets.csv'\n",
      "patool:     with shell='True'\n",
      "patool: ... tn.movie_budgets.csv.gz extracted to `tn.movie_budgets.csv'.\n"
     ]
    },
    {
     "data": {
      "text/plain": [
       "'tn.movie_budgets.csv'"
      ]
     },
     "execution_count": 48,
     "metadata": {},
     "output_type": "execute_result"
    }
   ],
   "source": [
    "patoolib.extract_archive('tn.movie_budgets.csv.gz')"
   ]
  },
  {
   "cell_type": "code",
   "execution_count": 49,
   "metadata": {},
   "outputs": [
    {
     "data": {
      "text/plain": [
       "['imdb.title.crew.csv.gz',\n",
       " '.DS_Store',\n",
       " 'tmdb.movies.csv.gz',\n",
       " 'imdb.title.crew.csv',\n",
       " 'upzipped data',\n",
       " 'tn.movie_budgets.csv',\n",
       " 'imdb.title.ratings.csv',\n",
       " 'imdb.title.akas.csv.gz',\n",
       " 'imdb.title.ratings.csv.gz',\n",
       " 'imdb.name.basics.csv.gz',\n",
       " 'bom.movie_gross.csv',\n",
       " 'imdb.title.basics.csv',\n",
       " 'rt.reviews.tsv.gz',\n",
       " 'imdb.title.basics.csv.gz',\n",
       " 'rt.movie_info.tsv.gz',\n",
       " 'tn.movie_budgets.csv.gz',\n",
       " 'bom.movie_gross.csv.gz',\n",
       " 'imdb.title.principals.csv.gz']"
      ]
     },
     "execution_count": 49,
     "metadata": {},
     "output_type": "execute_result"
    }
   ],
   "source": [
    "os.listdir()"
   ]
  },
  {
   "cell_type": "markdown",
   "metadata": {},
   "source": [
    "**2) Creating Pandas DataFrames to explore tables**"
   ]
  },
  {
   "cell_type": "code",
   "execution_count": 275,
   "metadata": {},
   "outputs": [],
   "source": [
    "import pandas as pd\n",
    "import numpy as np"
   ]
  },
  {
   "cell_type": "code",
   "execution_count": 38,
   "metadata": {},
   "outputs": [],
   "source": [
    "bom_gross = pd.read_csv('/Users/jordanrjohnson/DataScienceCourseMaterial/phase_1/phase_1_project/dsc-phase-1-project-online/zippedData/bom.movie_gross.csv')"
   ]
  },
  {
   "cell_type": "code",
   "execution_count": 42,
   "metadata": {},
   "outputs": [],
   "source": [
    "title_basics = pd.read_csv('/Users/jordanrjohnson/DataScienceCourseMaterial/phase_1/phase_1_project/dsc-phase-1-project-online/zippedData/imdb.title.basics.csv')"
   ]
  },
  {
   "cell_type": "code",
   "execution_count": 46,
   "metadata": {},
   "outputs": [],
   "source": [
    "title_ratings = pd.read_csv('/Users/jordanrjohnson/DataScienceCourseMaterial/phase_1/phase_1_project/dsc-phase-1-project-online/zippedData/imdb.title.ratings.csv')"
   ]
  },
  {
   "cell_type": "code",
   "execution_count": 50,
   "metadata": {},
   "outputs": [],
   "source": [
    "movie_budgets = pd.read_csv('/Users/jordanrjohnson/DataScienceCourseMaterial/phase_1/phase_1_project/dsc-phase-1-project-online/zippedData/tn.movie_budgets.csv')"
   ]
  },
  {
   "cell_type": "code",
   "execution_count": 51,
   "metadata": {},
   "outputs": [
    {
     "data": {
      "text/html": [
       "<div>\n",
       "<style scoped>\n",
       "    .dataframe tbody tr th:only-of-type {\n",
       "        vertical-align: middle;\n",
       "    }\n",
       "\n",
       "    .dataframe tbody tr th {\n",
       "        vertical-align: top;\n",
       "    }\n",
       "\n",
       "    .dataframe thead th {\n",
       "        text-align: right;\n",
       "    }\n",
       "</style>\n",
       "<table border=\"1\" class=\"dataframe\">\n",
       "  <thead>\n",
       "    <tr style=\"text-align: right;\">\n",
       "      <th></th>\n",
       "      <th>id</th>\n",
       "      <th>release_date</th>\n",
       "      <th>movie</th>\n",
       "      <th>production_budget</th>\n",
       "      <th>domestic_gross</th>\n",
       "      <th>worldwide_gross</th>\n",
       "    </tr>\n",
       "  </thead>\n",
       "  <tbody>\n",
       "    <tr>\n",
       "      <th>0</th>\n",
       "      <td>1</td>\n",
       "      <td>Dec 18, 2009</td>\n",
       "      <td>Avatar</td>\n",
       "      <td>$425,000,000</td>\n",
       "      <td>$760,507,625</td>\n",
       "      <td>$2,776,345,279</td>\n",
       "    </tr>\n",
       "    <tr>\n",
       "      <th>1</th>\n",
       "      <td>2</td>\n",
       "      <td>May 20, 2011</td>\n",
       "      <td>Pirates of the Caribbean: On Stranger Tides</td>\n",
       "      <td>$410,600,000</td>\n",
       "      <td>$241,063,875</td>\n",
       "      <td>$1,045,663,875</td>\n",
       "    </tr>\n",
       "    <tr>\n",
       "      <th>2</th>\n",
       "      <td>3</td>\n",
       "      <td>Jun 7, 2019</td>\n",
       "      <td>Dark Phoenix</td>\n",
       "      <td>$350,000,000</td>\n",
       "      <td>$42,762,350</td>\n",
       "      <td>$149,762,350</td>\n",
       "    </tr>\n",
       "    <tr>\n",
       "      <th>3</th>\n",
       "      <td>4</td>\n",
       "      <td>May 1, 2015</td>\n",
       "      <td>Avengers: Age of Ultron</td>\n",
       "      <td>$330,600,000</td>\n",
       "      <td>$459,005,868</td>\n",
       "      <td>$1,403,013,963</td>\n",
       "    </tr>\n",
       "    <tr>\n",
       "      <th>4</th>\n",
       "      <td>5</td>\n",
       "      <td>Dec 15, 2017</td>\n",
       "      <td>Star Wars Ep. VIII: The Last Jedi</td>\n",
       "      <td>$317,000,000</td>\n",
       "      <td>$620,181,382</td>\n",
       "      <td>$1,316,721,747</td>\n",
       "    </tr>\n",
       "  </tbody>\n",
       "</table>\n",
       "</div>"
      ],
      "text/plain": [
       "   id  release_date                                        movie  \\\n",
       "0   1  Dec 18, 2009                                       Avatar   \n",
       "1   2  May 20, 2011  Pirates of the Caribbean: On Stranger Tides   \n",
       "2   3   Jun 7, 2019                                 Dark Phoenix   \n",
       "3   4   May 1, 2015                      Avengers: Age of Ultron   \n",
       "4   5  Dec 15, 2017            Star Wars Ep. VIII: The Last Jedi   \n",
       "\n",
       "  production_budget domestic_gross worldwide_gross  \n",
       "0      $425,000,000   $760,507,625  $2,776,345,279  \n",
       "1      $410,600,000   $241,063,875  $1,045,663,875  \n",
       "2      $350,000,000    $42,762,350    $149,762,350  \n",
       "3      $330,600,000   $459,005,868  $1,403,013,963  \n",
       "4      $317,000,000   $620,181,382  $1,316,721,747  "
      ]
     },
     "execution_count": 51,
     "metadata": {},
     "output_type": "execute_result"
    }
   ],
   "source": [
    "movie_budgets.head()"
   ]
  },
  {
   "cell_type": "code",
   "execution_count": 57,
   "metadata": {},
   "outputs": [
    {
     "data": {
      "text/plain": [
       "<bound method Series.unique of 0       Dec 18, 2009\n",
       "1       May 20, 2011\n",
       "2        Jun 7, 2019\n",
       "3        May 1, 2015\n",
       "4       Dec 15, 2017\n",
       "            ...     \n",
       "5777    Dec 31, 2018\n",
       "5778     Apr 2, 1999\n",
       "5779    Jul 13, 2005\n",
       "5780    Sep 29, 2015\n",
       "5781     Aug 5, 2005\n",
       "Name: release_date, Length: 5782, dtype: object>"
      ]
     },
     "execution_count": 57,
     "metadata": {},
     "output_type": "execute_result"
    }
   ],
   "source": [
    "movie_budgets['release_date'].unique"
   ]
  },
  {
   "cell_type": "code",
   "execution_count": 63,
   "metadata": {},
   "outputs": [
    {
     "data": {
      "text/plain": [
       "(5782, 6)"
      ]
     },
     "execution_count": 63,
     "metadata": {},
     "output_type": "execute_result"
    }
   ],
   "source": [
    "movie_budgets.shape"
   ]
  },
  {
   "cell_type": "code",
   "execution_count": 52,
   "metadata": {},
   "outputs": [
    {
     "data": {
      "text/html": [
       "<div>\n",
       "<style scoped>\n",
       "    .dataframe tbody tr th:only-of-type {\n",
       "        vertical-align: middle;\n",
       "    }\n",
       "\n",
       "    .dataframe tbody tr th {\n",
       "        vertical-align: top;\n",
       "    }\n",
       "\n",
       "    .dataframe thead th {\n",
       "        text-align: right;\n",
       "    }\n",
       "</style>\n",
       "<table border=\"1\" class=\"dataframe\">\n",
       "  <thead>\n",
       "    <tr style=\"text-align: right;\">\n",
       "      <th></th>\n",
       "      <th>title</th>\n",
       "      <th>studio</th>\n",
       "      <th>domestic_gross</th>\n",
       "      <th>foreign_gross</th>\n",
       "      <th>year</th>\n",
       "    </tr>\n",
       "  </thead>\n",
       "  <tbody>\n",
       "    <tr>\n",
       "      <th>0</th>\n",
       "      <td>Toy Story 3</td>\n",
       "      <td>BV</td>\n",
       "      <td>415000000.0</td>\n",
       "      <td>652000000</td>\n",
       "      <td>2010</td>\n",
       "    </tr>\n",
       "    <tr>\n",
       "      <th>1</th>\n",
       "      <td>Alice in Wonderland (2010)</td>\n",
       "      <td>BV</td>\n",
       "      <td>334200000.0</td>\n",
       "      <td>691300000</td>\n",
       "      <td>2010</td>\n",
       "    </tr>\n",
       "    <tr>\n",
       "      <th>2</th>\n",
       "      <td>Harry Potter and the Deathly Hallows Part 1</td>\n",
       "      <td>WB</td>\n",
       "      <td>296000000.0</td>\n",
       "      <td>664300000</td>\n",
       "      <td>2010</td>\n",
       "    </tr>\n",
       "    <tr>\n",
       "      <th>3</th>\n",
       "      <td>Inception</td>\n",
       "      <td>WB</td>\n",
       "      <td>292600000.0</td>\n",
       "      <td>535700000</td>\n",
       "      <td>2010</td>\n",
       "    </tr>\n",
       "    <tr>\n",
       "      <th>4</th>\n",
       "      <td>Shrek Forever After</td>\n",
       "      <td>P/DW</td>\n",
       "      <td>238700000.0</td>\n",
       "      <td>513900000</td>\n",
       "      <td>2010</td>\n",
       "    </tr>\n",
       "  </tbody>\n",
       "</table>\n",
       "</div>"
      ],
      "text/plain": [
       "                                         title studio  domestic_gross  \\\n",
       "0                                  Toy Story 3     BV     415000000.0   \n",
       "1                   Alice in Wonderland (2010)     BV     334200000.0   \n",
       "2  Harry Potter and the Deathly Hallows Part 1     WB     296000000.0   \n",
       "3                                    Inception     WB     292600000.0   \n",
       "4                          Shrek Forever After   P/DW     238700000.0   \n",
       "\n",
       "  foreign_gross  year  \n",
       "0     652000000  2010  \n",
       "1     691300000  2010  \n",
       "2     664300000  2010  \n",
       "3     535700000  2010  \n",
       "4     513900000  2010  "
      ]
     },
     "execution_count": 52,
     "metadata": {},
     "output_type": "execute_result"
    }
   ],
   "source": [
    "bom_gross.head()"
   ]
  },
  {
   "cell_type": "code",
   "execution_count": 53,
   "metadata": {},
   "outputs": [
    {
     "data": {
      "text/plain": [
       "(3387, 5)"
      ]
     },
     "execution_count": 53,
     "metadata": {},
     "output_type": "execute_result"
    }
   ],
   "source": [
    "bom_gross.shape"
   ]
  },
  {
   "cell_type": "code",
   "execution_count": 62,
   "metadata": {},
   "outputs": [
    {
     "data": {
      "text/plain": [
       "array(['BV', 'WB', 'P/DW', 'Sum.', 'Par.', 'Uni.', 'Fox', 'Wein.', 'Sony',\n",
       "       'FoxS', 'SGem', 'WB (NL)', 'LGF', 'MBox', 'CL', 'W/Dim.', 'CBS',\n",
       "       'Focus', 'MGM', 'Over.', 'Mira.', 'IFC', 'CJ', 'NM', 'SPC', 'ParV',\n",
       "       'Gold.', 'JS', 'RAtt.', 'Magn.', 'Free', '3D', 'UTV', 'Rela.',\n",
       "       'Zeit.', 'Anch.', 'PDA', 'Lorb.', 'App.', 'Drft.', 'Osci.', 'IW',\n",
       "       'Rog.', nan, 'Eros', 'Relbig.', 'Viv.', 'Hann.', 'Strand', 'NGE',\n",
       "       'Scre.', 'Kino', 'Abr.', 'CZ', 'ATO', 'First', 'GK', 'FInd.',\n",
       "       'NFC', 'TFC', 'Pala.', 'Imag.', 'NAV', 'Arth.', 'CLS', 'Mont.',\n",
       "       'Olive', 'CGld', 'FOAK', 'IVP', 'Yash', 'ICir', 'FM', 'Vita.',\n",
       "       'WOW', 'Truly', 'Indic.', 'FD', 'Vari.', 'TriS', 'ORF', 'IM',\n",
       "       'Elev.', 'Cohen', 'NeoC', 'Jan.', 'MNE', 'Trib.', 'Rocket',\n",
       "       'OMNI/FSR', 'KKM', 'Argo.', 'SMod', 'Libre', 'FRun', 'WHE', 'P4',\n",
       "       'KC', 'SD', 'AM', 'MPFT', 'Icar.', 'AGF', 'A23', 'Da.', 'NYer',\n",
       "       'Rialto', 'DF', 'KL', 'ALP', 'LG/S', 'WGUSA', 'MPI', 'RTWC', 'FIP',\n",
       "       'RF', 'ArcEnt', 'PalUni', 'EpicPics', 'EOne', 'LD', 'AF', 'TFA',\n",
       "       'Myr.', 'BM&DH', 'SEG', 'PalT', 'Outs', 'OutF', 'BSM', 'WAMCR',\n",
       "       'PM&E', 'A24', 'Cdgm.', 'Distrib.', 'Imax', 'PH', 'HTR', 'ELS',\n",
       "       'PI', 'E1', 'TVC', 'FEF', 'EXCL', 'MSF', 'P/108', 'FCW', 'XL',\n",
       "       'Shout!', 'SV', 'CE', 'VPD', 'KE', 'Saban', 'CF&SR', 'Triu', 'DR',\n",
       "       'Crnth', 'Ampl.', 'CP', 'Proud', 'BGP', 'Abk.', 'DLA', 'B360',\n",
       "       'BWP', 'SEA', 'RME', 'KS', 'VE', 'LGP', 'EC', 'FUN', 'STX', 'AR',\n",
       "       'BG', 'PFR', 'BST', 'BH Tilt', 'BSC', 'U/P', 'UHE', 'CLF', 'FR',\n",
       "       'AaF', 'Orch.', 'Alc', 'PBS', 'SHO', 'Grav.', 'Gathr', 'Asp.',\n",
       "       'ADC', 'Rel.', 'SM', 'AZ', 'UEP', 'ITL', 'TA', 'MR', 'BBC',\n",
       "       'CFilms', 'Part.', 'FOR', 'TAFC', 'JBG', 'PNT', 'CineGalaxy',\n",
       "       'Fathom', 'Zee', 'Men.', 'YFG', 'Gaatri', 'Mon', 'Ghop',\n",
       "       'Cleopatra', 'Dreamwest', 'SDS', 'Linn', 'Electric', 'Jampa', 'HC',\n",
       "       'GrtIndia', 'Neon', 'ENTMP', 'Good Deed', 'ParC', 'Aviron',\n",
       "       'Annapurna', 'Amazon', 'Affirm', 'MOM', 'Orion', 'CFI', 'UTMW',\n",
       "       'Crimson', 'CAVU', 'EF', 'Arrow', 'Hiber', 'Studio 8',\n",
       "       'Global Road', 'Trafalgar', 'Greenwich', 'Spanglish', 'Blue Fox',\n",
       "       'RLJ', 'Swen', 'PackYourBag', 'Gaum.', 'Grindstone',\n",
       "       'Conglomerate', 'MUBI', 'Darin Southa', 'Super', 'CARUSEL', 'PDF',\n",
       "       'Synergetic'], dtype=object)"
      ]
     },
     "execution_count": 62,
     "metadata": {},
     "output_type": "execute_result"
    }
   ],
   "source": [
    "bom_gross['studio'].unique()"
   ]
  },
  {
   "cell_type": "code",
   "execution_count": 55,
   "metadata": {},
   "outputs": [
    {
     "data": {
      "text/plain": [
       "array([2010, 2011, 2012, 2013, 2014, 2015, 2016, 2017, 2018])"
      ]
     },
     "execution_count": 55,
     "metadata": {},
     "output_type": "execute_result"
    }
   ],
   "source": [
    "bom_gross['year'].unique()"
   ]
  },
  {
   "cell_type": "code",
   "execution_count": 60,
   "metadata": {},
   "outputs": [
    {
     "data": {
      "text/html": [
       "<div>\n",
       "<style scoped>\n",
       "    .dataframe tbody tr th:only-of-type {\n",
       "        vertical-align: middle;\n",
       "    }\n",
       "\n",
       "    .dataframe tbody tr th {\n",
       "        vertical-align: top;\n",
       "    }\n",
       "\n",
       "    .dataframe thead th {\n",
       "        text-align: right;\n",
       "    }\n",
       "</style>\n",
       "<table border=\"1\" class=\"dataframe\">\n",
       "  <thead>\n",
       "    <tr style=\"text-align: right;\">\n",
       "      <th></th>\n",
       "      <th>tconst</th>\n",
       "      <th>primary_title</th>\n",
       "      <th>original_title</th>\n",
       "      <th>start_year</th>\n",
       "      <th>runtime_minutes</th>\n",
       "      <th>genres</th>\n",
       "    </tr>\n",
       "  </thead>\n",
       "  <tbody>\n",
       "    <tr>\n",
       "      <th>0</th>\n",
       "      <td>tt0063540</td>\n",
       "      <td>Sunghursh</td>\n",
       "      <td>Sunghursh</td>\n",
       "      <td>2013</td>\n",
       "      <td>175.0</td>\n",
       "      <td>Action,Crime,Drama</td>\n",
       "    </tr>\n",
       "    <tr>\n",
       "      <th>1</th>\n",
       "      <td>tt0066787</td>\n",
       "      <td>One Day Before the Rainy Season</td>\n",
       "      <td>Ashad Ka Ek Din</td>\n",
       "      <td>2019</td>\n",
       "      <td>114.0</td>\n",
       "      <td>Biography,Drama</td>\n",
       "    </tr>\n",
       "    <tr>\n",
       "      <th>2</th>\n",
       "      <td>tt0069049</td>\n",
       "      <td>The Other Side of the Wind</td>\n",
       "      <td>The Other Side of the Wind</td>\n",
       "      <td>2018</td>\n",
       "      <td>122.0</td>\n",
       "      <td>Drama</td>\n",
       "    </tr>\n",
       "    <tr>\n",
       "      <th>3</th>\n",
       "      <td>tt0069204</td>\n",
       "      <td>Sabse Bada Sukh</td>\n",
       "      <td>Sabse Bada Sukh</td>\n",
       "      <td>2018</td>\n",
       "      <td>NaN</td>\n",
       "      <td>Comedy,Drama</td>\n",
       "    </tr>\n",
       "    <tr>\n",
       "      <th>4</th>\n",
       "      <td>tt0100275</td>\n",
       "      <td>The Wandering Soap Opera</td>\n",
       "      <td>La Telenovela Errante</td>\n",
       "      <td>2017</td>\n",
       "      <td>80.0</td>\n",
       "      <td>Comedy,Drama,Fantasy</td>\n",
       "    </tr>\n",
       "  </tbody>\n",
       "</table>\n",
       "</div>"
      ],
      "text/plain": [
       "      tconst                    primary_title              original_title  \\\n",
       "0  tt0063540                        Sunghursh                   Sunghursh   \n",
       "1  tt0066787  One Day Before the Rainy Season             Ashad Ka Ek Din   \n",
       "2  tt0069049       The Other Side of the Wind  The Other Side of the Wind   \n",
       "3  tt0069204                  Sabse Bada Sukh             Sabse Bada Sukh   \n",
       "4  tt0100275         The Wandering Soap Opera       La Telenovela Errante   \n",
       "\n",
       "   start_year  runtime_minutes                genres  \n",
       "0        2013            175.0    Action,Crime,Drama  \n",
       "1        2019            114.0       Biography,Drama  \n",
       "2        2018            122.0                 Drama  \n",
       "3        2018              NaN          Comedy,Drama  \n",
       "4        2017             80.0  Comedy,Drama,Fantasy  "
      ]
     },
     "execution_count": 60,
     "metadata": {},
     "output_type": "execute_result"
    }
   ],
   "source": [
    "title_basics.head()"
   ]
  },
  {
   "cell_type": "code",
   "execution_count": 61,
   "metadata": {},
   "outputs": [
    {
     "data": {
      "text/plain": [
       "array([2013, 2019, 2018, 2017, 2012, 2010, 2011, 2015, 2021, 2016, 2014,\n",
       "       2020, 2022, 2023, 2024, 2026, 2025, 2115, 2027])"
      ]
     },
     "execution_count": 61,
     "metadata": {},
     "output_type": "execute_result"
    }
   ],
   "source": [
    "title_basics['start_year'].unique()"
   ]
  },
  {
   "cell_type": "markdown",
   "metadata": {},
   "source": [
    "# Question 1: What are the qualities of the highest grossing films? #"
   ]
  },
  {
   "cell_type": "markdown",
   "metadata": {},
   "source": [
    "## Which studios are producing the highest domestic grossing films? ##"
   ]
  },
  {
   "cell_type": "markdown",
   "metadata": {},
   "source": [
    "**Clean/prepare the table(s)**\n",
    "- Get rid of null values\n",
    "- Get rid of duplicates\n",
    "\n",
    "*Note: Since we are just starting our movie production business, let's just focus on domestic gross for now*"
   ]
  },
  {
   "cell_type": "code",
   "execution_count": 71,
   "metadata": {
    "scrolled": true
   },
   "outputs": [
    {
     "data": {
      "text/html": [
       "<div>\n",
       "<style scoped>\n",
       "    .dataframe tbody tr th:only-of-type {\n",
       "        vertical-align: middle;\n",
       "    }\n",
       "\n",
       "    .dataframe tbody tr th {\n",
       "        vertical-align: top;\n",
       "    }\n",
       "\n",
       "    .dataframe thead th {\n",
       "        text-align: right;\n",
       "    }\n",
       "</style>\n",
       "<table border=\"1\" class=\"dataframe\">\n",
       "  <thead>\n",
       "    <tr style=\"text-align: right;\">\n",
       "      <th></th>\n",
       "      <th>title</th>\n",
       "      <th>studio</th>\n",
       "      <th>domestic_gross</th>\n",
       "      <th>foreign_gross</th>\n",
       "      <th>year</th>\n",
       "    </tr>\n",
       "  </thead>\n",
       "  <tbody>\n",
       "    <tr>\n",
       "      <th>230</th>\n",
       "      <td>It's a Wonderful Afterlife</td>\n",
       "      <td>UTV</td>\n",
       "      <td>NaN</td>\n",
       "      <td>1300000</td>\n",
       "      <td>2010</td>\n",
       "    </tr>\n",
       "    <tr>\n",
       "      <th>298</th>\n",
       "      <td>Celine: Through the Eyes of the World</td>\n",
       "      <td>Sony</td>\n",
       "      <td>NaN</td>\n",
       "      <td>119000</td>\n",
       "      <td>2010</td>\n",
       "    </tr>\n",
       "    <tr>\n",
       "      <th>302</th>\n",
       "      <td>White Lion</td>\n",
       "      <td>Scre.</td>\n",
       "      <td>NaN</td>\n",
       "      <td>99600</td>\n",
       "      <td>2010</td>\n",
       "    </tr>\n",
       "    <tr>\n",
       "      <th>306</th>\n",
       "      <td>Badmaash Company</td>\n",
       "      <td>Yash</td>\n",
       "      <td>NaN</td>\n",
       "      <td>64400</td>\n",
       "      <td>2010</td>\n",
       "    </tr>\n",
       "    <tr>\n",
       "      <th>327</th>\n",
       "      <td>Aashayein (Wishes)</td>\n",
       "      <td>Relbig.</td>\n",
       "      <td>NaN</td>\n",
       "      <td>3800</td>\n",
       "      <td>2010</td>\n",
       "    </tr>\n",
       "    <tr>\n",
       "      <th>537</th>\n",
       "      <td>Force</td>\n",
       "      <td>FoxS</td>\n",
       "      <td>NaN</td>\n",
       "      <td>4800000</td>\n",
       "      <td>2011</td>\n",
       "    </tr>\n",
       "    <tr>\n",
       "      <th>713</th>\n",
       "      <td>Empire of Silver</td>\n",
       "      <td>NeoC</td>\n",
       "      <td>NaN</td>\n",
       "      <td>19000</td>\n",
       "      <td>2011</td>\n",
       "    </tr>\n",
       "    <tr>\n",
       "      <th>871</th>\n",
       "      <td>Solomon Kane</td>\n",
       "      <td>RTWC</td>\n",
       "      <td>NaN</td>\n",
       "      <td>19600000</td>\n",
       "      <td>2012</td>\n",
       "    </tr>\n",
       "    <tr>\n",
       "      <th>928</th>\n",
       "      <td>The Tall Man</td>\n",
       "      <td>Imag.</td>\n",
       "      <td>NaN</td>\n",
       "      <td>5200000</td>\n",
       "      <td>2012</td>\n",
       "    </tr>\n",
       "    <tr>\n",
       "      <th>933</th>\n",
       "      <td>Keith Lemon: The Film</td>\n",
       "      <td>NaN</td>\n",
       "      <td>NaN</td>\n",
       "      <td>4000000</td>\n",
       "      <td>2012</td>\n",
       "    </tr>\n",
       "    <tr>\n",
       "      <th>936</th>\n",
       "      <td>Lula, Son of Brazil</td>\n",
       "      <td>NYer</td>\n",
       "      <td>NaN</td>\n",
       "      <td>3800000</td>\n",
       "      <td>2012</td>\n",
       "    </tr>\n",
       "    <tr>\n",
       "      <th>966</th>\n",
       "      <td>The Cup (2012)</td>\n",
       "      <td>Myr.</td>\n",
       "      <td>NaN</td>\n",
       "      <td>1800000</td>\n",
       "      <td>2012</td>\n",
       "    </tr>\n",
       "    <tr>\n",
       "      <th>1017</th>\n",
       "      <td>Dark Tide</td>\n",
       "      <td>WHE</td>\n",
       "      <td>NaN</td>\n",
       "      <td>432000</td>\n",
       "      <td>2012</td>\n",
       "    </tr>\n",
       "    <tr>\n",
       "      <th>1079</th>\n",
       "      <td>The Green Wave</td>\n",
       "      <td>RF</td>\n",
       "      <td>NaN</td>\n",
       "      <td>70100</td>\n",
       "      <td>2012</td>\n",
       "    </tr>\n",
       "    <tr>\n",
       "      <th>1268</th>\n",
       "      <td>22 Bullets</td>\n",
       "      <td>Cdgm.</td>\n",
       "      <td>NaN</td>\n",
       "      <td>21300000</td>\n",
       "      <td>2013</td>\n",
       "    </tr>\n",
       "    <tr>\n",
       "      <th>1308</th>\n",
       "      <td>Matru Ki Bijlee Ka Mandola</td>\n",
       "      <td>FIP</td>\n",
       "      <td>NaN</td>\n",
       "      <td>6000000</td>\n",
       "      <td>2013</td>\n",
       "    </tr>\n",
       "    <tr>\n",
       "      <th>1340</th>\n",
       "      <td>The Snitch Cartel</td>\n",
       "      <td>PI</td>\n",
       "      <td>NaN</td>\n",
       "      <td>2100000</td>\n",
       "      <td>2013</td>\n",
       "    </tr>\n",
       "    <tr>\n",
       "      <th>1342</th>\n",
       "      <td>All the Boys Love Mandy Lane</td>\n",
       "      <td>RTWC</td>\n",
       "      <td>NaN</td>\n",
       "      <td>1900000</td>\n",
       "      <td>2013</td>\n",
       "    </tr>\n",
       "    <tr>\n",
       "      <th>1368</th>\n",
       "      <td>6 Souls</td>\n",
       "      <td>RTWC</td>\n",
       "      <td>NaN</td>\n",
       "      <td>852000</td>\n",
       "      <td>2013</td>\n",
       "    </tr>\n",
       "    <tr>\n",
       "      <th>1659</th>\n",
       "      <td>Jessabelle</td>\n",
       "      <td>LGF</td>\n",
       "      <td>NaN</td>\n",
       "      <td>7000000</td>\n",
       "      <td>2014</td>\n",
       "    </tr>\n",
       "    <tr>\n",
       "      <th>1681</th>\n",
       "      <td>14 Blades</td>\n",
       "      <td>RTWC</td>\n",
       "      <td>NaN</td>\n",
       "      <td>3800000</td>\n",
       "      <td>2014</td>\n",
       "    </tr>\n",
       "    <tr>\n",
       "      <th>1685</th>\n",
       "      <td>Jack and the Cuckoo-Clock Heart</td>\n",
       "      <td>Shout!</td>\n",
       "      <td>NaN</td>\n",
       "      <td>3400000</td>\n",
       "      <td>2014</td>\n",
       "    </tr>\n",
       "    <tr>\n",
       "      <th>1739</th>\n",
       "      <td>Lila Lila</td>\n",
       "      <td>Crnth</td>\n",
       "      <td>NaN</td>\n",
       "      <td>1100000</td>\n",
       "      <td>2014</td>\n",
       "    </tr>\n",
       "    <tr>\n",
       "      <th>1975</th>\n",
       "      <td>Surprise - Journey To The West</td>\n",
       "      <td>AR</td>\n",
       "      <td>NaN</td>\n",
       "      <td>49600000</td>\n",
       "      <td>2015</td>\n",
       "    </tr>\n",
       "    <tr>\n",
       "      <th>2392</th>\n",
       "      <td>Finding Mr. Right 2</td>\n",
       "      <td>CL</td>\n",
       "      <td>NaN</td>\n",
       "      <td>114700000</td>\n",
       "      <td>2016</td>\n",
       "    </tr>\n",
       "    <tr>\n",
       "      <th>2468</th>\n",
       "      <td>Solace</td>\n",
       "      <td>LGP</td>\n",
       "      <td>NaN</td>\n",
       "      <td>22400000</td>\n",
       "      <td>2016</td>\n",
       "    </tr>\n",
       "    <tr>\n",
       "      <th>2595</th>\n",
       "      <td>Viral</td>\n",
       "      <td>W/Dim.</td>\n",
       "      <td>NaN</td>\n",
       "      <td>552000</td>\n",
       "      <td>2016</td>\n",
       "    </tr>\n",
       "    <tr>\n",
       "      <th>2825</th>\n",
       "      <td>Secret Superstar</td>\n",
       "      <td>NaN</td>\n",
       "      <td>NaN</td>\n",
       "      <td>122000000</td>\n",
       "      <td>2017</td>\n",
       "    </tr>\n",
       "  </tbody>\n",
       "</table>\n",
       "</div>"
      ],
      "text/plain": [
       "                                      title   studio  domestic_gross  \\\n",
       "230              It's a Wonderful Afterlife      UTV             NaN   \n",
       "298   Celine: Through the Eyes of the World     Sony             NaN   \n",
       "302                              White Lion    Scre.             NaN   \n",
       "306                        Badmaash Company     Yash             NaN   \n",
       "327                      Aashayein (Wishes)  Relbig.             NaN   \n",
       "537                                   Force     FoxS             NaN   \n",
       "713                        Empire of Silver     NeoC             NaN   \n",
       "871                            Solomon Kane     RTWC             NaN   \n",
       "928                            The Tall Man    Imag.             NaN   \n",
       "933                   Keith Lemon: The Film      NaN             NaN   \n",
       "936                     Lula, Son of Brazil     NYer             NaN   \n",
       "966                          The Cup (2012)     Myr.             NaN   \n",
       "1017                              Dark Tide      WHE             NaN   \n",
       "1079                         The Green Wave       RF             NaN   \n",
       "1268                             22 Bullets    Cdgm.             NaN   \n",
       "1308             Matru Ki Bijlee Ka Mandola      FIP             NaN   \n",
       "1340                      The Snitch Cartel       PI             NaN   \n",
       "1342           All the Boys Love Mandy Lane     RTWC             NaN   \n",
       "1368                                6 Souls     RTWC             NaN   \n",
       "1659                             Jessabelle      LGF             NaN   \n",
       "1681                              14 Blades     RTWC             NaN   \n",
       "1685        Jack and the Cuckoo-Clock Heart   Shout!             NaN   \n",
       "1739                              Lila Lila    Crnth             NaN   \n",
       "1975         Surprise - Journey To The West       AR             NaN   \n",
       "2392                    Finding Mr. Right 2       CL             NaN   \n",
       "2468                                 Solace      LGP             NaN   \n",
       "2595                                  Viral   W/Dim.             NaN   \n",
       "2825                       Secret Superstar      NaN             NaN   \n",
       "\n",
       "     foreign_gross  year  \n",
       "230        1300000  2010  \n",
       "298         119000  2010  \n",
       "302          99600  2010  \n",
       "306          64400  2010  \n",
       "327           3800  2010  \n",
       "537        4800000  2011  \n",
       "713          19000  2011  \n",
       "871       19600000  2012  \n",
       "928        5200000  2012  \n",
       "933        4000000  2012  \n",
       "936        3800000  2012  \n",
       "966        1800000  2012  \n",
       "1017        432000  2012  \n",
       "1079         70100  2012  \n",
       "1268      21300000  2013  \n",
       "1308       6000000  2013  \n",
       "1340       2100000  2013  \n",
       "1342       1900000  2013  \n",
       "1368        852000  2013  \n",
       "1659       7000000  2014  \n",
       "1681       3800000  2014  \n",
       "1685       3400000  2014  \n",
       "1739       1100000  2014  \n",
       "1975      49600000  2015  \n",
       "2392     114700000  2016  \n",
       "2468      22400000  2016  \n",
       "2595        552000  2016  \n",
       "2825     122000000  2017  "
      ]
     },
     "execution_count": 71,
     "metadata": {},
     "output_type": "execute_result"
    }
   ],
   "source": [
    "bom_gross.loc[bom_gross['domestic_gross'].isna() == True]"
   ]
  },
  {
   "cell_type": "code",
   "execution_count": 86,
   "metadata": {},
   "outputs": [
    {
     "data": {
      "text/html": [
       "<div>\n",
       "<style scoped>\n",
       "    .dataframe tbody tr th:only-of-type {\n",
       "        vertical-align: middle;\n",
       "    }\n",
       "\n",
       "    .dataframe tbody tr th {\n",
       "        vertical-align: top;\n",
       "    }\n",
       "\n",
       "    .dataframe thead th {\n",
       "        text-align: right;\n",
       "    }\n",
       "</style>\n",
       "<table border=\"1\" class=\"dataframe\">\n",
       "  <thead>\n",
       "    <tr style=\"text-align: right;\">\n",
       "      <th></th>\n",
       "      <th>title</th>\n",
       "      <th>studio</th>\n",
       "      <th>domestic_gross</th>\n",
       "      <th>foreign_gross</th>\n",
       "      <th>year</th>\n",
       "    </tr>\n",
       "  </thead>\n",
       "  <tbody>\n",
       "    <tr>\n",
       "      <th>210</th>\n",
       "      <td>Outside the Law (Hors-la-loi)</td>\n",
       "      <td>NaN</td>\n",
       "      <td>96900.0</td>\n",
       "      <td>3300000</td>\n",
       "      <td>2010</td>\n",
       "    </tr>\n",
       "    <tr>\n",
       "      <th>555</th>\n",
       "      <td>Fireflies in the Garden</td>\n",
       "      <td>NaN</td>\n",
       "      <td>70600.0</td>\n",
       "      <td>3300000</td>\n",
       "      <td>2011</td>\n",
       "    </tr>\n",
       "    <tr>\n",
       "      <th>933</th>\n",
       "      <td>Keith Lemon: The Film</td>\n",
       "      <td>NaN</td>\n",
       "      <td>NaN</td>\n",
       "      <td>4000000</td>\n",
       "      <td>2012</td>\n",
       "    </tr>\n",
       "    <tr>\n",
       "      <th>1862</th>\n",
       "      <td>Plot for Peace</td>\n",
       "      <td>NaN</td>\n",
       "      <td>7100.0</td>\n",
       "      <td>NaN</td>\n",
       "      <td>2014</td>\n",
       "    </tr>\n",
       "    <tr>\n",
       "      <th>2825</th>\n",
       "      <td>Secret Superstar</td>\n",
       "      <td>NaN</td>\n",
       "      <td>NaN</td>\n",
       "      <td>122000000</td>\n",
       "      <td>2017</td>\n",
       "    </tr>\n",
       "  </tbody>\n",
       "</table>\n",
       "</div>"
      ],
      "text/plain": [
       "                              title studio  domestic_gross foreign_gross  year\n",
       "210   Outside the Law (Hors-la-loi)    NaN         96900.0       3300000  2010\n",
       "555         Fireflies in the Garden    NaN         70600.0       3300000  2011\n",
       "933           Keith Lemon: The Film    NaN             NaN       4000000  2012\n",
       "1862                 Plot for Peace    NaN          7100.0           NaN  2014\n",
       "2825               Secret Superstar    NaN             NaN     122000000  2017"
      ]
     },
     "execution_count": 86,
     "metadata": {},
     "output_type": "execute_result"
    }
   ],
   "source": [
    "bom_gross.loc[bom_gross['studio'].isna() == True]"
   ]
  },
  {
   "cell_type": "code",
   "execution_count": 89,
   "metadata": {},
   "outputs": [],
   "source": [
    "bom_gross = bom_gross.dropna(subset = ['domestic_gross', 'studio'])"
   ]
  },
  {
   "cell_type": "code",
   "execution_count": 90,
   "metadata": {
    "scrolled": true
   },
   "outputs": [
    {
     "data": {
      "text/plain": [
       "title                0\n",
       "studio               0\n",
       "domestic_gross       0\n",
       "foreign_gross     1349\n",
       "year                 0\n",
       "dtype: int64"
      ]
     },
     "execution_count": 90,
     "metadata": {},
     "output_type": "execute_result"
    }
   ],
   "source": [
    "bom_gross.isna().sum()"
   ]
  },
  {
   "cell_type": "code",
   "execution_count": 91,
   "metadata": {},
   "outputs": [
    {
     "data": {
      "text/html": [
       "<div>\n",
       "<style scoped>\n",
       "    .dataframe tbody tr th:only-of-type {\n",
       "        vertical-align: middle;\n",
       "    }\n",
       "\n",
       "    .dataframe tbody tr th {\n",
       "        vertical-align: top;\n",
       "    }\n",
       "\n",
       "    .dataframe thead th {\n",
       "        text-align: right;\n",
       "    }\n",
       "</style>\n",
       "<table border=\"1\" class=\"dataframe\">\n",
       "  <thead>\n",
       "    <tr style=\"text-align: right;\">\n",
       "      <th></th>\n",
       "      <th>title</th>\n",
       "      <th>studio</th>\n",
       "      <th>domestic_gross</th>\n",
       "      <th>foreign_gross</th>\n",
       "      <th>year</th>\n",
       "    </tr>\n",
       "  </thead>\n",
       "  <tbody>\n",
       "    <tr>\n",
       "      <th>222</th>\n",
       "      <td>Flipped</td>\n",
       "      <td>WB</td>\n",
       "      <td>1800000.0</td>\n",
       "      <td>NaN</td>\n",
       "      <td>2010</td>\n",
       "    </tr>\n",
       "    <tr>\n",
       "      <th>254</th>\n",
       "      <td>The Polar Express (IMAX re-issue 2010)</td>\n",
       "      <td>WB</td>\n",
       "      <td>673000.0</td>\n",
       "      <td>NaN</td>\n",
       "      <td>2010</td>\n",
       "    </tr>\n",
       "    <tr>\n",
       "      <th>267</th>\n",
       "      <td>Tiny Furniture</td>\n",
       "      <td>IFC</td>\n",
       "      <td>392000.0</td>\n",
       "      <td>NaN</td>\n",
       "      <td>2010</td>\n",
       "    </tr>\n",
       "    <tr>\n",
       "      <th>269</th>\n",
       "      <td>Grease (Sing-a-Long re-issue)</td>\n",
       "      <td>Par.</td>\n",
       "      <td>366000.0</td>\n",
       "      <td>NaN</td>\n",
       "      <td>2010</td>\n",
       "    </tr>\n",
       "    <tr>\n",
       "      <th>280</th>\n",
       "      <td>Last Train Home</td>\n",
       "      <td>Zeit.</td>\n",
       "      <td>288000.0</td>\n",
       "      <td>NaN</td>\n",
       "      <td>2010</td>\n",
       "    </tr>\n",
       "    <tr>\n",
       "      <th>...</th>\n",
       "      <td>...</td>\n",
       "      <td>...</td>\n",
       "      <td>...</td>\n",
       "      <td>...</td>\n",
       "      <td>...</td>\n",
       "    </tr>\n",
       "    <tr>\n",
       "      <th>3382</th>\n",
       "      <td>The Quake</td>\n",
       "      <td>Magn.</td>\n",
       "      <td>6200.0</td>\n",
       "      <td>NaN</td>\n",
       "      <td>2018</td>\n",
       "    </tr>\n",
       "    <tr>\n",
       "      <th>3383</th>\n",
       "      <td>Edward II (2018 re-release)</td>\n",
       "      <td>FM</td>\n",
       "      <td>4800.0</td>\n",
       "      <td>NaN</td>\n",
       "      <td>2018</td>\n",
       "    </tr>\n",
       "    <tr>\n",
       "      <th>3384</th>\n",
       "      <td>El Pacto</td>\n",
       "      <td>Sony</td>\n",
       "      <td>2500.0</td>\n",
       "      <td>NaN</td>\n",
       "      <td>2018</td>\n",
       "    </tr>\n",
       "    <tr>\n",
       "      <th>3385</th>\n",
       "      <td>The Swan</td>\n",
       "      <td>Synergetic</td>\n",
       "      <td>2400.0</td>\n",
       "      <td>NaN</td>\n",
       "      <td>2018</td>\n",
       "    </tr>\n",
       "    <tr>\n",
       "      <th>3386</th>\n",
       "      <td>An Actor Prepares</td>\n",
       "      <td>Grav.</td>\n",
       "      <td>1700.0</td>\n",
       "      <td>NaN</td>\n",
       "      <td>2018</td>\n",
       "    </tr>\n",
       "  </tbody>\n",
       "</table>\n",
       "<p>1349 rows × 5 columns</p>\n",
       "</div>"
      ],
      "text/plain": [
       "                                       title      studio  domestic_gross  \\\n",
       "222                                  Flipped          WB       1800000.0   \n",
       "254   The Polar Express (IMAX re-issue 2010)          WB        673000.0   \n",
       "267                           Tiny Furniture         IFC        392000.0   \n",
       "269            Grease (Sing-a-Long re-issue)        Par.        366000.0   \n",
       "280                          Last Train Home       Zeit.        288000.0   \n",
       "...                                      ...         ...             ...   \n",
       "3382                               The Quake       Magn.          6200.0   \n",
       "3383             Edward II (2018 re-release)          FM          4800.0   \n",
       "3384                                El Pacto        Sony          2500.0   \n",
       "3385                                The Swan  Synergetic          2400.0   \n",
       "3386                       An Actor Prepares       Grav.          1700.0   \n",
       "\n",
       "     foreign_gross  year  \n",
       "222            NaN  2010  \n",
       "254            NaN  2010  \n",
       "267            NaN  2010  \n",
       "269            NaN  2010  \n",
       "280            NaN  2010  \n",
       "...            ...   ...  \n",
       "3382           NaN  2018  \n",
       "3383           NaN  2018  \n",
       "3384           NaN  2018  \n",
       "3385           NaN  2018  \n",
       "3386           NaN  2018  \n",
       "\n",
       "[1349 rows x 5 columns]"
      ]
     },
     "execution_count": 91,
     "metadata": {},
     "output_type": "execute_result"
    }
   ],
   "source": [
    "bom_gross.loc[bom_gross['foreign_gross'].isna() == True]"
   ]
  },
  {
   "cell_type": "code",
   "execution_count": 94,
   "metadata": {},
   "outputs": [],
   "source": [
    "bom_gross = bom_gross.drop(columns = 'foreign_gross')"
   ]
  },
  {
   "cell_type": "code",
   "execution_count": 95,
   "metadata": {},
   "outputs": [
    {
     "data": {
      "text/plain": [
       "title             0\n",
       "studio            0\n",
       "domestic_gross    0\n",
       "year              0\n",
       "dtype: int64"
      ]
     },
     "execution_count": 95,
     "metadata": {},
     "output_type": "execute_result"
    }
   ],
   "source": [
    "bom_gross.isna().sum()"
   ]
  },
  {
   "cell_type": "code",
   "execution_count": 99,
   "metadata": {},
   "outputs": [
    {
     "name": "stdout",
     "output_type": "stream",
     "text": [
      "0\n"
     ]
    }
   ],
   "source": [
    "duplicates = bom_gross[bom_gross.duplicated()]\n",
    "print(len(duplicates))"
   ]
  },
  {
   "cell_type": "code",
   "execution_count": 100,
   "metadata": {},
   "outputs": [
    {
     "data": {
      "text/plain": [
       "1100000.0      32\n",
       "1000000.0      30\n",
       "1300000.0      30\n",
       "1200000.0      25\n",
       "1400000.0      23\n",
       "               ..\n",
       "68800.0         1\n",
       "87000000.0      1\n",
       "739000.0        1\n",
       "336000000.0     1\n",
       "727000.0        1\n",
       "Name: domestic_gross, Length: 1794, dtype: int64"
      ]
     },
     "execution_count": 100,
     "metadata": {},
     "output_type": "execute_result"
    }
   ],
   "source": [
    "bom_gross['domestic_gross'].value_counts()"
   ]
  },
  {
   "cell_type": "code",
   "execution_count": 102,
   "metadata": {
    "scrolled": true
   },
   "outputs": [
    {
     "data": {
      "text/plain": [
       "2015    449\n",
       "2016    433\n",
       "2011    396\n",
       "2012    393\n",
       "2014    390\n",
       "2013    345\n",
       "2010    322\n",
       "2017    320\n",
       "2018    308\n",
       "Name: year, dtype: int64"
      ]
     },
     "execution_count": 102,
     "metadata": {},
     "output_type": "execute_result"
    }
   ],
   "source": [
    "bom_gross['year'].value_counts()"
   ]
  },
  {
   "cell_type": "markdown",
   "metadata": {},
   "source": [
    "**Grouping and plotting the results**"
   ]
  },
  {
   "cell_type": "code",
   "execution_count": 219,
   "metadata": {},
   "outputs": [],
   "source": [
    "import matplotlib.pyplot as plt\n",
    "import seaborn as sns\n",
    "%matplotlib inline\n",
    "plt.style.use('seaborn-white')"
   ]
  },
  {
   "cell_type": "code",
   "execution_count": 118,
   "metadata": {},
   "outputs": [
    {
     "data": {
      "text/plain": [
       "studio\n",
       "BV      1.841903e+10\n",
       "Uni.    1.290239e+10\n",
       "WB      1.216805e+10\n",
       "Fox     1.094950e+10\n",
       "Sony    8.459683e+09\n",
       "Name: domestic_gross, dtype: float64"
      ]
     },
     "execution_count": 118,
     "metadata": {},
     "output_type": "execute_result"
    }
   ],
   "source": [
    "bom_studios = bom_gross.groupby('studio')['domestic_gross'].sum().sort_values(ascending = False)\n",
    "bom_studios.head()"
   ]
  },
  {
   "cell_type": "code",
   "execution_count": 221,
   "metadata": {},
   "outputs": [
    {
     "data": {
      "text/plain": [
       "Text(0, 0.5, 'Total Domestic Gross')"
      ]
     },
     "execution_count": 221,
     "metadata": {},
     "output_type": "execute_result"
    },
    {
     "data": {
      "image/png": "[encoded data removed]",
      "text/plain": [
       "<Figure size 432x288 with 1 Axes>"
      ]
     },
     "metadata": {},
     "output_type": "display_data"
    }
   ],
   "source": [
    "studios_plt = bom_studios.head(4).plot(kind = 'bar')\n",
    "plt.title('Highest Grossing Studios from 2010-2018')\n",
    "plt.ylabel('Total Domestic Gross')\n"
   ]
  },
  {
   "cell_type": "markdown",
   "metadata": {},
   "source": [
    "## Which are the highest grossing films that these studios are making? ##"
   ]
  },
  {
   "cell_type": "markdown",
   "metadata": {},
   "source": [
    "**Let's sort these films by domestic_gross, then find the top 10 films per studio for the top 4 studios**\n",
    "\n",
    "*Note: This dataset gives us films from 2010-2018*"
   ]
  },
  {
   "cell_type": "code",
   "execution_count": 173,
   "metadata": {},
   "outputs": [],
   "source": [
    "sorted_gross = bom_gross.sort_values(ascending = False, by = 'domestic_gross')"
   ]
  },
  {
   "cell_type": "code",
   "execution_count": 179,
   "metadata": {},
   "outputs": [
    {
     "data": {
      "text/html": [
       "<div>\n",
       "<style scoped>\n",
       "    .dataframe tbody tr th:only-of-type {\n",
       "        vertical-align: middle;\n",
       "    }\n",
       "\n",
       "    .dataframe tbody tr th {\n",
       "        vertical-align: top;\n",
       "    }\n",
       "\n",
       "    .dataframe thead th {\n",
       "        text-align: right;\n",
       "    }\n",
       "</style>\n",
       "<table border=\"1\" class=\"dataframe\">\n",
       "  <thead>\n",
       "    <tr style=\"text-align: right;\">\n",
       "      <th></th>\n",
       "      <th>title</th>\n",
       "      <th>studio</th>\n",
       "      <th>domestic_gross</th>\n",
       "      <th>year</th>\n",
       "    </tr>\n",
       "  </thead>\n",
       "  <tbody>\n",
       "    <tr>\n",
       "      <th>1872</th>\n",
       "      <td>Star Wars: The Force Awakens</td>\n",
       "      <td>BV</td>\n",
       "      <td>936700000.0</td>\n",
       "      <td>2015</td>\n",
       "    </tr>\n",
       "    <tr>\n",
       "      <th>3080</th>\n",
       "      <td>Black Panther</td>\n",
       "      <td>BV</td>\n",
       "      <td>700100000.0</td>\n",
       "      <td>2018</td>\n",
       "    </tr>\n",
       "    <tr>\n",
       "      <th>3079</th>\n",
       "      <td>Avengers: Infinity War</td>\n",
       "      <td>BV</td>\n",
       "      <td>678800000.0</td>\n",
       "      <td>2018</td>\n",
       "    </tr>\n",
       "    <tr>\n",
       "      <th>727</th>\n",
       "      <td>Marvel's The Avengers</td>\n",
       "      <td>BV</td>\n",
       "      <td>623400000.0</td>\n",
       "      <td>2012</td>\n",
       "    </tr>\n",
       "    <tr>\n",
       "      <th>2758</th>\n",
       "      <td>Star Wars: The Last Jedi</td>\n",
       "      <td>BV</td>\n",
       "      <td>620200000.0</td>\n",
       "      <td>2017</td>\n",
       "    </tr>\n",
       "    <tr>\n",
       "      <th>3082</th>\n",
       "      <td>Incredibles 2</td>\n",
       "      <td>BV</td>\n",
       "      <td>608600000.0</td>\n",
       "      <td>2018</td>\n",
       "    </tr>\n",
       "    <tr>\n",
       "      <th>2323</th>\n",
       "      <td>Rogue One: A Star Wars Story</td>\n",
       "      <td>BV</td>\n",
       "      <td>532200000.0</td>\n",
       "      <td>2016</td>\n",
       "    </tr>\n",
       "    <tr>\n",
       "      <th>2759</th>\n",
       "      <td>Beauty and the Beast (2017)</td>\n",
       "      <td>BV</td>\n",
       "      <td>504000000.0</td>\n",
       "      <td>2017</td>\n",
       "    </tr>\n",
       "    <tr>\n",
       "      <th>2324</th>\n",
       "      <td>Finding Dory</td>\n",
       "      <td>BV</td>\n",
       "      <td>486300000.0</td>\n",
       "      <td>2016</td>\n",
       "    </tr>\n",
       "    <tr>\n",
       "      <th>1875</th>\n",
       "      <td>Avengers: Age of Ultron</td>\n",
       "      <td>BV</td>\n",
       "      <td>459000000.0</td>\n",
       "      <td>2015</td>\n",
       "    </tr>\n",
       "  </tbody>\n",
       "</table>\n",
       "</div>"
      ],
      "text/plain": [
       "                             title studio  domestic_gross  year\n",
       "1872  Star Wars: The Force Awakens     BV     936700000.0  2015\n",
       "3080                 Black Panther     BV     700100000.0  2018\n",
       "3079        Avengers: Infinity War     BV     678800000.0  2018\n",
       "727          Marvel's The Avengers     BV     623400000.0  2012\n",
       "2758      Star Wars: The Last Jedi     BV     620200000.0  2017\n",
       "3082                 Incredibles 2     BV     608600000.0  2018\n",
       "2323  Rogue One: A Star Wars Story     BV     532200000.0  2016\n",
       "2759   Beauty and the Beast (2017)     BV     504000000.0  2017\n",
       "2324                  Finding Dory     BV     486300000.0  2016\n",
       "1875       Avengers: Age of Ultron     BV     459000000.0  2015"
      ]
     },
     "execution_count": 179,
     "metadata": {},
     "output_type": "execute_result"
    }
   ],
   "source": [
    "top_BV = sorted_gross.loc[sorted_gross['studio'] == 'BV']\n",
    "top_BV.head(10)"
   ]
  },
  {
   "cell_type": "code",
   "execution_count": 229,
   "metadata": {},
   "outputs": [
    {
     "data": {
      "text/plain": [
       "<matplotlib.axes._subplots.AxesSubplot at 0x1a25e775f8>"
      ]
     },
     "execution_count": 229,
     "metadata": {},
     "output_type": "execute_result"
    },
    {
     "data": {
      "image/png": "[encoded data removed]",
      "text/plain": [
       "<Figure size 432x288 with 1 Axes>"
      ]
     },
     "metadata": {},
     "output_type": "display_data"
    }
   ],
   "source": [
    "BV_plot = sns.barplot(data=top_BV.head(10),\n",
    "                      x='domestic_gross',\n",
    "                      y='title',\n",
    "                     palette='Blues_d')\n",
    "\n",
    "BV_plot.set_xticklabels(labels= BV_plot.get_xticklabels(),\n",
    "                        rotation = 90)\n",
    "BV_plot.set_title('Top-Grossing Buena Vista Films')\n",
    "BV_plot"
   ]
  },
  {
   "cell_type": "code",
   "execution_count": 204,
   "metadata": {},
   "outputs": [
    {
     "data": {
      "text/html": [
       "<div>\n",
       "<style scoped>\n",
       "    .dataframe tbody tr th:only-of-type {\n",
       "        vertical-align: middle;\n",
       "    }\n",
       "\n",
       "    .dataframe tbody tr th {\n",
       "        vertical-align: top;\n",
       "    }\n",
       "\n",
       "    .dataframe thead th {\n",
       "        text-align: right;\n",
       "    }\n",
       "</style>\n",
       "<table border=\"1\" class=\"dataframe\">\n",
       "  <thead>\n",
       "    <tr style=\"text-align: right;\">\n",
       "      <th></th>\n",
       "      <th>title</th>\n",
       "      <th>studio</th>\n",
       "      <th>domestic_gross</th>\n",
       "      <th>year</th>\n",
       "    </tr>\n",
       "  </thead>\n",
       "  <tbody>\n",
       "    <tr>\n",
       "      <th>1873</th>\n",
       "      <td>Jurassic World</td>\n",
       "      <td>Uni.</td>\n",
       "      <td>652300000.0</td>\n",
       "      <td>2015</td>\n",
       "    </tr>\n",
       "    <tr>\n",
       "      <th>3081</th>\n",
       "      <td>Jurassic World: Fallen Kingdom</td>\n",
       "      <td>Uni.</td>\n",
       "      <td>417700000.0</td>\n",
       "      <td>2018</td>\n",
       "    </tr>\n",
       "    <tr>\n",
       "      <th>2327</th>\n",
       "      <td>The Secret Life of Pets</td>\n",
       "      <td>Uni.</td>\n",
       "      <td>368400000.0</td>\n",
       "      <td>2016</td>\n",
       "    </tr>\n",
       "    <tr>\n",
       "      <th>1129</th>\n",
       "      <td>Despicable Me 2</td>\n",
       "      <td>Uni.</td>\n",
       "      <td>368100000.0</td>\n",
       "      <td>2013</td>\n",
       "    </tr>\n",
       "    <tr>\n",
       "      <th>1874</th>\n",
       "      <td>Furious 7</td>\n",
       "      <td>Uni.</td>\n",
       "      <td>353000000.0</td>\n",
       "      <td>2015</td>\n",
       "    </tr>\n",
       "    <tr>\n",
       "      <th>1876</th>\n",
       "      <td>Minions</td>\n",
       "      <td>Uni.</td>\n",
       "      <td>336000000.0</td>\n",
       "      <td>2015</td>\n",
       "    </tr>\n",
       "    <tr>\n",
       "      <th>3096</th>\n",
       "      <td>Dr. Seuss' The Grinch (2018)</td>\n",
       "      <td>Uni.</td>\n",
       "      <td>270600000.0</td>\n",
       "      <td>2018</td>\n",
       "    </tr>\n",
       "    <tr>\n",
       "      <th>2334</th>\n",
       "      <td>Sing</td>\n",
       "      <td>Uni.</td>\n",
       "      <td>270400000.0</td>\n",
       "      <td>2016</td>\n",
       "    </tr>\n",
       "    <tr>\n",
       "      <th>2761</th>\n",
       "      <td>Despicable Me 3</td>\n",
       "      <td>Uni.</td>\n",
       "      <td>264600000.0</td>\n",
       "      <td>2017</td>\n",
       "    </tr>\n",
       "    <tr>\n",
       "      <th>8</th>\n",
       "      <td>Despicable Me</td>\n",
       "      <td>Uni.</td>\n",
       "      <td>251500000.0</td>\n",
       "      <td>2010</td>\n",
       "    </tr>\n",
       "  </tbody>\n",
       "</table>\n",
       "</div>"
      ],
      "text/plain": [
       "                               title studio  domestic_gross  year\n",
       "1873                  Jurassic World   Uni.     652300000.0  2015\n",
       "3081  Jurassic World: Fallen Kingdom   Uni.     417700000.0  2018\n",
       "2327         The Secret Life of Pets   Uni.     368400000.0  2016\n",
       "1129                 Despicable Me 2   Uni.     368100000.0  2013\n",
       "1874                       Furious 7   Uni.     353000000.0  2015\n",
       "1876                         Minions   Uni.     336000000.0  2015\n",
       "3096    Dr. Seuss' The Grinch (2018)   Uni.     270600000.0  2018\n",
       "2334                            Sing   Uni.     270400000.0  2016\n",
       "2761                 Despicable Me 3   Uni.     264600000.0  2017\n",
       "8                      Despicable Me   Uni.     251500000.0  2010"
      ]
     },
     "execution_count": 204,
     "metadata": {},
     "output_type": "execute_result"
    }
   ],
   "source": [
    "top_Uni = sorted_gross.loc[sorted_gross['studio'] == 'Uni.']\n",
    "top_Uni.head(10)"
   ]
  },
  {
   "cell_type": "code",
   "execution_count": 228,
   "metadata": {},
   "outputs": [
    {
     "data": {
      "text/plain": [
       "<matplotlib.axes._subplots.AxesSubplot at 0x1a25e93198>"
      ]
     },
     "execution_count": 228,
     "metadata": {},
     "output_type": "execute_result"
    },
    {
     "data": {
      "image/png": "[encoded data removed]",
      "text/plain": [
       "<Figure size 432x288 with 1 Axes>"
      ]
     },
     "metadata": {},
     "output_type": "display_data"
    }
   ],
   "source": [
    "Uni_plot = sns.barplot(data=top_Uni.head(10),\n",
    "                      x='domestic_gross',\n",
    "                      y='title',\n",
    "                     palette='Purples_d')\n",
    "\n",
    "Uni_plot.set_xticklabels(labels= Uni_plot.get_xticklabels(),\n",
    "                        rotation = 90)\n",
    "Uni_plot.set_title('Top-Grossing Universal Studios Films')\n",
    "Uni_plot"
   ]
  },
  {
   "cell_type": "code",
   "execution_count": 207,
   "metadata": {},
   "outputs": [
    {
     "data": {
      "text/html": [
       "<div>\n",
       "<style scoped>\n",
       "    .dataframe tbody tr th:only-of-type {\n",
       "        vertical-align: middle;\n",
       "    }\n",
       "\n",
       "    .dataframe tbody tr th {\n",
       "        vertical-align: top;\n",
       "    }\n",
       "\n",
       "    .dataframe thead th {\n",
       "        text-align: right;\n",
       "    }\n",
       "</style>\n",
       "<table border=\"1\" class=\"dataframe\">\n",
       "  <thead>\n",
       "    <tr style=\"text-align: right;\">\n",
       "      <th></th>\n",
       "      <th>title</th>\n",
       "      <th>studio</th>\n",
       "      <th>domestic_gross</th>\n",
       "      <th>year</th>\n",
       "    </tr>\n",
       "  </thead>\n",
       "  <tbody>\n",
       "    <tr>\n",
       "      <th>729</th>\n",
       "      <td>The Dark Knight Rises</td>\n",
       "      <td>WB</td>\n",
       "      <td>448100000.0</td>\n",
       "      <td>2012</td>\n",
       "    </tr>\n",
       "    <tr>\n",
       "      <th>2767</th>\n",
       "      <td>Wonder Woman</td>\n",
       "      <td>WB</td>\n",
       "      <td>412600000.0</td>\n",
       "      <td>2017</td>\n",
       "    </tr>\n",
       "    <tr>\n",
       "      <th>328</th>\n",
       "      <td>Harry Potter and the Deathly Hallows Part 2</td>\n",
       "      <td>WB</td>\n",
       "      <td>381000000.0</td>\n",
       "      <td>2011</td>\n",
       "    </tr>\n",
       "    <tr>\n",
       "      <th>1489</th>\n",
       "      <td>American Sniper</td>\n",
       "      <td>WB</td>\n",
       "      <td>350100000.0</td>\n",
       "      <td>2014</td>\n",
       "    </tr>\n",
       "    <tr>\n",
       "      <th>3083</th>\n",
       "      <td>Aquaman</td>\n",
       "      <td>WB</td>\n",
       "      <td>335100000.0</td>\n",
       "      <td>2018</td>\n",
       "    </tr>\n",
       "    <tr>\n",
       "      <th>2328</th>\n",
       "      <td>Batman v Superman: Dawn of Justice</td>\n",
       "      <td>WB</td>\n",
       "      <td>330400000.0</td>\n",
       "      <td>2016</td>\n",
       "    </tr>\n",
       "    <tr>\n",
       "      <th>2331</th>\n",
       "      <td>Suicide Squad</td>\n",
       "      <td>WB</td>\n",
       "      <td>325100000.0</td>\n",
       "      <td>2016</td>\n",
       "    </tr>\n",
       "    <tr>\n",
       "      <th>2</th>\n",
       "      <td>Harry Potter and the Deathly Hallows Part 1</td>\n",
       "      <td>WB</td>\n",
       "      <td>296000000.0</td>\n",
       "      <td>2010</td>\n",
       "    </tr>\n",
       "    <tr>\n",
       "      <th>3</th>\n",
       "      <td>Inception</td>\n",
       "      <td>WB</td>\n",
       "      <td>292600000.0</td>\n",
       "      <td>2010</td>\n",
       "    </tr>\n",
       "    <tr>\n",
       "      <th>1135</th>\n",
       "      <td>Man of Steel</td>\n",
       "      <td>WB</td>\n",
       "      <td>291000000.0</td>\n",
       "      <td>2013</td>\n",
       "    </tr>\n",
       "  </tbody>\n",
       "</table>\n",
       "</div>"
      ],
      "text/plain": [
       "                                            title studio  domestic_gross  year\n",
       "729                         The Dark Knight Rises     WB     448100000.0  2012\n",
       "2767                                 Wonder Woman     WB     412600000.0  2017\n",
       "328   Harry Potter and the Deathly Hallows Part 2     WB     381000000.0  2011\n",
       "1489                              American Sniper     WB     350100000.0  2014\n",
       "3083                                      Aquaman     WB     335100000.0  2018\n",
       "2328           Batman v Superman: Dawn of Justice     WB     330400000.0  2016\n",
       "2331                                Suicide Squad     WB     325100000.0  2016\n",
       "2     Harry Potter and the Deathly Hallows Part 1     WB     296000000.0  2010\n",
       "3                                       Inception     WB     292600000.0  2010\n",
       "1135                                 Man of Steel     WB     291000000.0  2013"
      ]
     },
     "execution_count": 207,
     "metadata": {},
     "output_type": "execute_result"
    }
   ],
   "source": [
    "top_WB = sorted_gross.loc[sorted_gross['studio'] == 'WB']\n",
    "top_WB.head(10)"
   ]
  },
  {
   "cell_type": "code",
   "execution_count": 227,
   "metadata": {},
   "outputs": [
    {
     "data": {
      "text/plain": [
       "<matplotlib.axes._subplots.AxesSubplot at 0x1a25d42978>"
      ]
     },
     "execution_count": 227,
     "metadata": {},
     "output_type": "execute_result"
    },
    {
     "data": {
      "image/png": "[encoded data removed]",
      "text/plain": [
       "<Figure size 432x288 with 1 Axes>"
      ]
     },
     "metadata": {},
     "output_type": "display_data"
    }
   ],
   "source": [
    "WB_plot = sns.barplot(data=top_WB.head(10),\n",
    "                      x='domestic_gross',\n",
    "                      y='title',\n",
    "                     palette='Greens_d')\n",
    "\n",
    "WB_plot.set_xticklabels(labels= WB_plot.get_xticklabels(),\n",
    "                        rotation = 90)\n",
    "WB_plot.set_title('Top-Grossing Warner Bros Films')\n",
    "WB_plot"
   ]
  },
  {
   "cell_type": "code",
   "execution_count": 209,
   "metadata": {},
   "outputs": [
    {
     "data": {
      "text/html": [
       "<div>\n",
       "<style scoped>\n",
       "    .dataframe tbody tr th:only-of-type {\n",
       "        vertical-align: middle;\n",
       "    }\n",
       "\n",
       "    .dataframe tbody tr th {\n",
       "        vertical-align: top;\n",
       "    }\n",
       "\n",
       "    .dataframe thead th {\n",
       "        text-align: right;\n",
       "    }\n",
       "</style>\n",
       "<table border=\"1\" class=\"dataframe\">\n",
       "  <thead>\n",
       "    <tr style=\"text-align: right;\">\n",
       "      <th></th>\n",
       "      <th>title</th>\n",
       "      <th>studio</th>\n",
       "      <th>domestic_gross</th>\n",
       "      <th>year</th>\n",
       "    </tr>\n",
       "  </thead>\n",
       "  <tbody>\n",
       "    <tr>\n",
       "      <th>2330</th>\n",
       "      <td>Deadpool</td>\n",
       "      <td>Fox</td>\n",
       "      <td>363100000.0</td>\n",
       "      <td>2016</td>\n",
       "    </tr>\n",
       "    <tr>\n",
       "      <th>3087</th>\n",
       "      <td>Deadpool 2</td>\n",
       "      <td>Fox</td>\n",
       "      <td>318500000.0</td>\n",
       "      <td>2018</td>\n",
       "    </tr>\n",
       "    <tr>\n",
       "      <th>1482</th>\n",
       "      <td>X-Men: Days of Future Past</td>\n",
       "      <td>Fox</td>\n",
       "      <td>233900000.0</td>\n",
       "      <td>2014</td>\n",
       "    </tr>\n",
       "    <tr>\n",
       "      <th>1881</th>\n",
       "      <td>The Martian</td>\n",
       "      <td>Fox</td>\n",
       "      <td>228400000.0</td>\n",
       "      <td>2015</td>\n",
       "    </tr>\n",
       "    <tr>\n",
       "      <th>2772</th>\n",
       "      <td>Logan (2017)</td>\n",
       "      <td>Fox</td>\n",
       "      <td>226300000.0</td>\n",
       "      <td>2017</td>\n",
       "    </tr>\n",
       "    <tr>\n",
       "      <th>3084</th>\n",
       "      <td>Bohemian Rhapsody</td>\n",
       "      <td>Fox</td>\n",
       "      <td>216400000.0</td>\n",
       "      <td>2018</td>\n",
       "    </tr>\n",
       "    <tr>\n",
       "      <th>1484</th>\n",
       "      <td>Dawn of the Planet of the Apes</td>\n",
       "      <td>Fox</td>\n",
       "      <td>208500000.0</td>\n",
       "      <td>2014</td>\n",
       "    </tr>\n",
       "    <tr>\n",
       "      <th>1137</th>\n",
       "      <td>The Croods</td>\n",
       "      <td>Fox</td>\n",
       "      <td>187200000.0</td>\n",
       "      <td>2013</td>\n",
       "    </tr>\n",
       "    <tr>\n",
       "      <th>1884</th>\n",
       "      <td>The Revenant</td>\n",
       "      <td>Fox</td>\n",
       "      <td>183600000.0</td>\n",
       "      <td>2015</td>\n",
       "    </tr>\n",
       "    <tr>\n",
       "      <th>1890</th>\n",
       "      <td>Home (2015)</td>\n",
       "      <td>Fox</td>\n",
       "      <td>177400000.0</td>\n",
       "      <td>2015</td>\n",
       "    </tr>\n",
       "  </tbody>\n",
       "</table>\n",
       "</div>"
      ],
      "text/plain": [
       "                               title studio  domestic_gross  year\n",
       "2330                        Deadpool    Fox     363100000.0  2016\n",
       "3087                      Deadpool 2    Fox     318500000.0  2018\n",
       "1482      X-Men: Days of Future Past    Fox     233900000.0  2014\n",
       "1881                     The Martian    Fox     228400000.0  2015\n",
       "2772                    Logan (2017)    Fox     226300000.0  2017\n",
       "3084               Bohemian Rhapsody    Fox     216400000.0  2018\n",
       "1484  Dawn of the Planet of the Apes    Fox     208500000.0  2014\n",
       "1137                      The Croods    Fox     187200000.0  2013\n",
       "1884                    The Revenant    Fox     183600000.0  2015\n",
       "1890                     Home (2015)    Fox     177400000.0  2015"
      ]
     },
     "execution_count": 209,
     "metadata": {},
     "output_type": "execute_result"
    }
   ],
   "source": [
    "top_Fox = sorted_gross.loc[sorted_gross['studio'] == 'Fox']\n",
    "top_Fox.head(10)"
   ]
  },
  {
   "cell_type": "code",
   "execution_count": 226,
   "metadata": {},
   "outputs": [
    {
     "data": {
      "text/plain": [
       "<matplotlib.axes._subplots.AxesSubplot at 0x1a25bde198>"
      ]
     },
     "execution_count": 226,
     "metadata": {},
     "output_type": "execute_result"
    },
    {
     "data": {
      "image/png": "[encoded data removed]",
      "text/plain": [
       "<Figure size 432x288 with 1 Axes>"
      ]
     },
     "metadata": {},
     "output_type": "display_data"
    }
   ],
   "source": [
    "Fox_plot = sns.barplot(data=top_Fox.head(10),\n",
    "                      x='domestic_gross',\n",
    "                      y='title',\n",
    "                     palette='Reds_d')\n",
    "\n",
    "Fox_plot.set_xticklabels(labels= Fox_plot.get_xticklabels(),\n",
    "                        rotation = 90)\n",
    "Fox_plot.set_title('Top-Grossing 20th Century Fox Films')\n",
    "Fox_plot"
   ]
  },
  {
   "cell_type": "markdown",
   "metadata": {},
   "source": [
    "# Question 1 Conclusion #"
   ]
  },
  {
   "cell_type": "markdown",
   "metadata": {},
   "source": [
    "**What are the the qualities of the top-grossing films from the past 10 years?**\n",
    "\n",
    "\n",
    "The top-grossing films in this case are those with the highest domestic gross. We are looking at domestic gross over foreign gross because as a new movie studio, we should conquer our home market before trying to overstretch to foreign and domestic markets all at once. \n",
    "\n",
    "The 4 studios with the top-grossing films are:\n",
    "* Buena Vista (BV) | total domestic gross: $18.4 billion\n",
    "\n",
    "* Universal Studios (Uni.) | total domestic gross: $12.9 billion\n",
    "\n",
    "* Warner Bros. (WB) | total domestic gross: $12.1 billion\n",
    "\n",
    "* 20th Century Fox (Fox) | total domestic gross: $1.1 billion\n",
    "\n",
    "We can further investigate these top-grossing films by looking at the top 10 films for each of the top studios.\n",
    "\n",
    "(see plots: BV_plot, Uni_plot, WB_plot, and Fox_plot)\n",
    "\n",
    "We can easily see a pattern in the qualities and genres of these films. Most of them are action films. They are superhero films (e.g. Avengers, Deadpool, The Dark Knight, etc), sci-fi/fantasy franchises (e.g. Star Wars, Jurassic World, Harry Potter, Dawn of the Planet of the Apes, etc), and animated films for kids & families (e.g. Incredibles, Despicable Me, etc). We also see quite a few movie remakes among these top-grossing films (e.g. Logan (2017), Home (2015), The Grinch (2018), Beauty and the Beast (2017)). \n",
    "\n",
    "**Recommendations**\n",
    "\n",
    "Based on these findings, I would recommend making films that reflect these qualities (superhero films, animated films for families, sci-fi/fantasy films, remakes, etc. \n",
    "\n",
    "Investing in a sci-fi/fantasy or superhero franchise seems to be a great investment. We can see a trend in these films over the past 10 years. \n",
    "\n",
    "We can also conclude that buying the licensing rights to an old film and creating a remake would be a good investment as well. "
   ]
  },
  {
   "cell_type": "markdown",
   "metadata": {},
   "source": [
    "# Question 2: Which films made the most money? #"
   ]
  },
  {
   "cell_type": "markdown",
   "metadata": {},
   "source": [
    "## What is the relationship between production budget and gross earnings? ##"
   ]
  },
  {
   "cell_type": "markdown",
   "metadata": {},
   "source": [
    "**Clean/prepare the table(s)**\n",
    "- Check for null values\n",
    "- Check for duplicates\n",
    "- Change datatypes as needed\n",
    "- Limit table to only movies released from 2010 to 2020"
   ]
  },
  {
   "cell_type": "code",
   "execution_count": 245,
   "metadata": {},
   "outputs": [
    {
     "data": {
      "text/html": [
       "<div>\n",
       "<style scoped>\n",
       "    .dataframe tbody tr th:only-of-type {\n",
       "        vertical-align: middle;\n",
       "    }\n",
       "\n",
       "    .dataframe tbody tr th {\n",
       "        vertical-align: top;\n",
       "    }\n",
       "\n",
       "    .dataframe thead th {\n",
       "        text-align: right;\n",
       "    }\n",
       "</style>\n",
       "<table border=\"1\" class=\"dataframe\">\n",
       "  <thead>\n",
       "    <tr style=\"text-align: right;\">\n",
       "      <th></th>\n",
       "      <th>id</th>\n",
       "      <th>release_date</th>\n",
       "      <th>movie</th>\n",
       "      <th>production_budget</th>\n",
       "      <th>domestic_gross</th>\n",
       "      <th>worldwide_gross</th>\n",
       "    </tr>\n",
       "  </thead>\n",
       "  <tbody>\n",
       "    <tr>\n",
       "      <th>0</th>\n",
       "      <td>1</td>\n",
       "      <td>Dec 18, 2009</td>\n",
       "      <td>Avatar</td>\n",
       "      <td>$425,000,000</td>\n",
       "      <td>$760,507,625</td>\n",
       "      <td>$2,776,345,279</td>\n",
       "    </tr>\n",
       "    <tr>\n",
       "      <th>1</th>\n",
       "      <td>2</td>\n",
       "      <td>May 20, 2011</td>\n",
       "      <td>Pirates of the Caribbean: On Stranger Tides</td>\n",
       "      <td>$410,600,000</td>\n",
       "      <td>$241,063,875</td>\n",
       "      <td>$1,045,663,875</td>\n",
       "    </tr>\n",
       "    <tr>\n",
       "      <th>2</th>\n",
       "      <td>3</td>\n",
       "      <td>Jun 7, 2019</td>\n",
       "      <td>Dark Phoenix</td>\n",
       "      <td>$350,000,000</td>\n",
       "      <td>$42,762,350</td>\n",
       "      <td>$149,762,350</td>\n",
       "    </tr>\n",
       "    <tr>\n",
       "      <th>3</th>\n",
       "      <td>4</td>\n",
       "      <td>May 1, 2015</td>\n",
       "      <td>Avengers: Age of Ultron</td>\n",
       "      <td>$330,600,000</td>\n",
       "      <td>$459,005,868</td>\n",
       "      <td>$1,403,013,963</td>\n",
       "    </tr>\n",
       "    <tr>\n",
       "      <th>4</th>\n",
       "      <td>5</td>\n",
       "      <td>Dec 15, 2017</td>\n",
       "      <td>Star Wars Ep. VIII: The Last Jedi</td>\n",
       "      <td>$317,000,000</td>\n",
       "      <td>$620,181,382</td>\n",
       "      <td>$1,316,721,747</td>\n",
       "    </tr>\n",
       "  </tbody>\n",
       "</table>\n",
       "</div>"
      ],
      "text/plain": [
       "   id  release_date                                        movie  \\\n",
       "0   1  Dec 18, 2009                                       Avatar   \n",
       "1   2  May 20, 2011  Pirates of the Caribbean: On Stranger Tides   \n",
       "2   3   Jun 7, 2019                                 Dark Phoenix   \n",
       "3   4   May 1, 2015                      Avengers: Age of Ultron   \n",
       "4   5  Dec 15, 2017            Star Wars Ep. VIII: The Last Jedi   \n",
       "\n",
       "  production_budget domestic_gross worldwide_gross  \n",
       "0      $425,000,000   $760,507,625  $2,776,345,279  \n",
       "1      $410,600,000   $241,063,875  $1,045,663,875  \n",
       "2      $350,000,000    $42,762,350    $149,762,350  \n",
       "3      $330,600,000   $459,005,868  $1,403,013,963  \n",
       "4      $317,000,000   $620,181,382  $1,316,721,747  "
      ]
     },
     "execution_count": 245,
     "metadata": {},
     "output_type": "execute_result"
    }
   ],
   "source": [
    "movie_budgets.head()"
   ]
  },
  {
   "cell_type": "code",
   "execution_count": 239,
   "metadata": {},
   "outputs": [],
   "source": [
    "mb_duplicates = movie_budgets[movie_budgets.duplicated()]"
   ]
  },
  {
   "cell_type": "code",
   "execution_count": 240,
   "metadata": {},
   "outputs": [
    {
     "name": "stdout",
     "output_type": "stream",
     "text": [
      "0\n"
     ]
    }
   ],
   "source": [
    "print(len(mb_duplicates))"
   ]
  },
  {
   "cell_type": "code",
   "execution_count": 242,
   "metadata": {},
   "outputs": [
    {
     "data": {
      "text/plain": [
       "id                   0\n",
       "release_date         0\n",
       "movie                0\n",
       "production_budget    0\n",
       "domestic_gross       0\n",
       "worldwide_gross      0\n",
       "dtype: int64"
      ]
     },
     "execution_count": 242,
     "metadata": {},
     "output_type": "execute_result"
    }
   ],
   "source": [
    "movie_budgets.isna().sum()"
   ]
  },
  {
   "cell_type": "code",
   "execution_count": 244,
   "metadata": {},
   "outputs": [
    {
     "data": {
      "text/plain": [
       "id                    int64\n",
       "release_date         object\n",
       "movie                object\n",
       "production_budget    object\n",
       "domestic_gross       object\n",
       "worldwide_gross      object\n",
       "dtype: object"
      ]
     },
     "execution_count": 244,
     "metadata": {},
     "output_type": "execute_result"
    }
   ],
   "source": [
    "movie_budgets.dtypes"
   ]
  },
  {
   "cell_type": "code",
   "execution_count": 251,
   "metadata": {},
   "outputs": [
    {
     "data": {
      "text/html": [
       "<div>\n",
       "<style scoped>\n",
       "    .dataframe tbody tr th:only-of-type {\n",
       "        vertical-align: middle;\n",
       "    }\n",
       "\n",
       "    .dataframe tbody tr th {\n",
       "        vertical-align: top;\n",
       "    }\n",
       "\n",
       "    .dataframe thead th {\n",
       "        text-align: right;\n",
       "    }\n",
       "</style>\n",
       "<table border=\"1\" class=\"dataframe\">\n",
       "  <thead>\n",
       "    <tr style=\"text-align: right;\">\n",
       "      <th></th>\n",
       "      <th>id</th>\n",
       "      <th>release_date</th>\n",
       "      <th>movie</th>\n",
       "      <th>production_budget</th>\n",
       "      <th>domestic_gross</th>\n",
       "      <th>worldwide_gross</th>\n",
       "    </tr>\n",
       "  </thead>\n",
       "  <tbody>\n",
       "    <tr>\n",
       "      <th>0</th>\n",
       "      <td>1</td>\n",
       "      <td>2009-12-18</td>\n",
       "      <td>Avatar</td>\n",
       "      <td>$425,000,000</td>\n",
       "      <td>$760,507,625</td>\n",
       "      <td>$2,776,345,279</td>\n",
       "    </tr>\n",
       "    <tr>\n",
       "      <th>1</th>\n",
       "      <td>2</td>\n",
       "      <td>2011-05-20</td>\n",
       "      <td>Pirates of the Caribbean: On Stranger Tides</td>\n",
       "      <td>$410,600,000</td>\n",
       "      <td>$241,063,875</td>\n",
       "      <td>$1,045,663,875</td>\n",
       "    </tr>\n",
       "    <tr>\n",
       "      <th>2</th>\n",
       "      <td>3</td>\n",
       "      <td>2019-06-07</td>\n",
       "      <td>Dark Phoenix</td>\n",
       "      <td>$350,000,000</td>\n",
       "      <td>$42,762,350</td>\n",
       "      <td>$149,762,350</td>\n",
       "    </tr>\n",
       "    <tr>\n",
       "      <th>3</th>\n",
       "      <td>4</td>\n",
       "      <td>2015-05-01</td>\n",
       "      <td>Avengers: Age of Ultron</td>\n",
       "      <td>$330,600,000</td>\n",
       "      <td>$459,005,868</td>\n",
       "      <td>$1,403,013,963</td>\n",
       "    </tr>\n",
       "    <tr>\n",
       "      <th>4</th>\n",
       "      <td>5</td>\n",
       "      <td>2017-12-15</td>\n",
       "      <td>Star Wars Ep. VIII: The Last Jedi</td>\n",
       "      <td>$317,000,000</td>\n",
       "      <td>$620,181,382</td>\n",
       "      <td>$1,316,721,747</td>\n",
       "    </tr>\n",
       "  </tbody>\n",
       "</table>\n",
       "</div>"
      ],
      "text/plain": [
       "   id release_date                                        movie  \\\n",
       "0   1   2009-12-18                                       Avatar   \n",
       "1   2   2011-05-20  Pirates of the Caribbean: On Stranger Tides   \n",
       "2   3   2019-06-07                                 Dark Phoenix   \n",
       "3   4   2015-05-01                      Avengers: Age of Ultron   \n",
       "4   5   2017-12-15            Star Wars Ep. VIII: The Last Jedi   \n",
       "\n",
       "  production_budget domestic_gross worldwide_gross  \n",
       "0      $425,000,000   $760,507,625  $2,776,345,279  \n",
       "1      $410,600,000   $241,063,875  $1,045,663,875  \n",
       "2      $350,000,000    $42,762,350    $149,762,350  \n",
       "3      $330,600,000   $459,005,868  $1,403,013,963  \n",
       "4      $317,000,000   $620,181,382  $1,316,721,747  "
      ]
     },
     "execution_count": 251,
     "metadata": {},
     "output_type": "execute_result"
    }
   ],
   "source": [
    "movie_budgets['release_date'] = pd.to_datetime(movie_budgets['release_date'])\n",
    "movie_budgets.head()"
   ]
  },
  {
   "cell_type": "code",
   "execution_count": 263,
   "metadata": {},
   "outputs": [],
   "source": [
    "movie_budgets['production_budget'] = movie_budgets['production_budget'].str.replace('$', '').str.replace(',', '').astype(int)"
   ]
  },
  {
   "cell_type": "code",
   "execution_count": 265,
   "metadata": {},
   "outputs": [],
   "source": [
    "movie_budgets['domestic_gross'] = movie_budgets['domestic_gross'].str.replace('$', '').str.replace(',', '').astype(int)"
   ]
  },
  {
   "cell_type": "code",
   "execution_count": 267,
   "metadata": {},
   "outputs": [],
   "source": [
    "movie_budgets['worldwide_gross'] = movie_budgets['worldwide_gross'].str.replace('$', '').str.replace(',', '').astype(int)"
   ]
  },
  {
   "cell_type": "code",
   "execution_count": 268,
   "metadata": {},
   "outputs": [
    {
     "data": {
      "text/html": [
       "<div>\n",
       "<style scoped>\n",
       "    .dataframe tbody tr th:only-of-type {\n",
       "        vertical-align: middle;\n",
       "    }\n",
       "\n",
       "    .dataframe tbody tr th {\n",
       "        vertical-align: top;\n",
       "    }\n",
       "\n",
       "    .dataframe thead th {\n",
       "        text-align: right;\n",
       "    }\n",
       "</style>\n",
       "<table border=\"1\" class=\"dataframe\">\n",
       "  <thead>\n",
       "    <tr style=\"text-align: right;\">\n",
       "      <th></th>\n",
       "      <th>id</th>\n",
       "      <th>release_date</th>\n",
       "      <th>movie</th>\n",
       "      <th>production_budget</th>\n",
       "      <th>domestic_gross</th>\n",
       "      <th>worldwide_gross</th>\n",
       "    </tr>\n",
       "  </thead>\n",
       "  <tbody>\n",
       "    <tr>\n",
       "      <th>0</th>\n",
       "      <td>1</td>\n",
       "      <td>2009-12-18</td>\n",
       "      <td>Avatar</td>\n",
       "      <td>425000000</td>\n",
       "      <td>760507625</td>\n",
       "      <td>2776345279</td>\n",
       "    </tr>\n",
       "    <tr>\n",
       "      <th>1</th>\n",
       "      <td>2</td>\n",
       "      <td>2011-05-20</td>\n",
       "      <td>Pirates of the Caribbean: On Stranger Tides</td>\n",
       "      <td>410600000</td>\n",
       "      <td>241063875</td>\n",
       "      <td>1045663875</td>\n",
       "    </tr>\n",
       "    <tr>\n",
       "      <th>2</th>\n",
       "      <td>3</td>\n",
       "      <td>2019-06-07</td>\n",
       "      <td>Dark Phoenix</td>\n",
       "      <td>350000000</td>\n",
       "      <td>42762350</td>\n",
       "      <td>149762350</td>\n",
       "    </tr>\n",
       "    <tr>\n",
       "      <th>3</th>\n",
       "      <td>4</td>\n",
       "      <td>2015-05-01</td>\n",
       "      <td>Avengers: Age of Ultron</td>\n",
       "      <td>330600000</td>\n",
       "      <td>459005868</td>\n",
       "      <td>1403013963</td>\n",
       "    </tr>\n",
       "    <tr>\n",
       "      <th>4</th>\n",
       "      <td>5</td>\n",
       "      <td>2017-12-15</td>\n",
       "      <td>Star Wars Ep. VIII: The Last Jedi</td>\n",
       "      <td>317000000</td>\n",
       "      <td>620181382</td>\n",
       "      <td>1316721747</td>\n",
       "    </tr>\n",
       "  </tbody>\n",
       "</table>\n",
       "</div>"
      ],
      "text/plain": [
       "   id release_date                                        movie  \\\n",
       "0   1   2009-12-18                                       Avatar   \n",
       "1   2   2011-05-20  Pirates of the Caribbean: On Stranger Tides   \n",
       "2   3   2019-06-07                                 Dark Phoenix   \n",
       "3   4   2015-05-01                      Avengers: Age of Ultron   \n",
       "4   5   2017-12-15            Star Wars Ep. VIII: The Last Jedi   \n",
       "\n",
       "   production_budget  domestic_gross  worldwide_gross  \n",
       "0          425000000       760507625       2776345279  \n",
       "1          410600000       241063875       1045663875  \n",
       "2          350000000        42762350        149762350  \n",
       "3          330600000       459005868       1403013963  \n",
       "4          317000000       620181382       1316721747  "
      ]
     },
     "execution_count": 268,
     "metadata": {},
     "output_type": "execute_result"
    }
   ],
   "source": [
    "movie_budgets.head()"
   ]
  },
  {
   "cell_type": "code",
   "execution_count": 302,
   "metadata": {},
   "outputs": [],
   "source": [
    "movie_budgets = movie_budgets.loc[(movie_budgets['release_date'] > '2010-01-01') & (movie_budgets['release_date'] < '2019-12-31')]"
   ]
  },
  {
   "cell_type": "code",
   "execution_count": 310,
   "metadata": {},
   "outputs": [
    {
     "data": {
      "text/html": [
       "<div>\n",
       "<style scoped>\n",
       "    .dataframe tbody tr th:only-of-type {\n",
       "        vertical-align: middle;\n",
       "    }\n",
       "\n",
       "    .dataframe tbody tr th {\n",
       "        vertical-align: top;\n",
       "    }\n",
       "\n",
       "    .dataframe thead th {\n",
       "        text-align: right;\n",
       "    }\n",
       "</style>\n",
       "<table border=\"1\" class=\"dataframe\">\n",
       "  <thead>\n",
       "    <tr style=\"text-align: right;\">\n",
       "      <th></th>\n",
       "      <th>id</th>\n",
       "      <th>release_date</th>\n",
       "      <th>movie</th>\n",
       "      <th>production_budget</th>\n",
       "      <th>domestic_gross</th>\n",
       "      <th>worldwide_gross</th>\n",
       "    </tr>\n",
       "  </thead>\n",
       "  <tbody>\n",
       "    <tr>\n",
       "      <th>5780</th>\n",
       "      <td>81</td>\n",
       "      <td>2015-09-29</td>\n",
       "      <td>A Plague So Pleasant</td>\n",
       "      <td>1400</td>\n",
       "      <td>0</td>\n",
       "      <td>0</td>\n",
       "    </tr>\n",
       "    <tr>\n",
       "      <th>5777</th>\n",
       "      <td>78</td>\n",
       "      <td>2018-12-31</td>\n",
       "      <td>Red 11</td>\n",
       "      <td>7000</td>\n",
       "      <td>0</td>\n",
       "      <td>0</td>\n",
       "    </tr>\n",
       "    <tr>\n",
       "      <th>5772</th>\n",
       "      <td>73</td>\n",
       "      <td>2012-01-13</td>\n",
       "      <td>Newlyweds</td>\n",
       "      <td>9000</td>\n",
       "      <td>4584</td>\n",
       "      <td>4584</td>\n",
       "    </tr>\n",
       "    <tr>\n",
       "      <th>5771</th>\n",
       "      <td>72</td>\n",
       "      <td>2015-05-19</td>\n",
       "      <td>Family Motocross</td>\n",
       "      <td>10000</td>\n",
       "      <td>0</td>\n",
       "      <td>0</td>\n",
       "    </tr>\n",
       "    <tr>\n",
       "      <th>5760</th>\n",
       "      <td>61</td>\n",
       "      <td>2010-04-02</td>\n",
       "      <td>Breaking Upwards</td>\n",
       "      <td>15000</td>\n",
       "      <td>115592</td>\n",
       "      <td>115592</td>\n",
       "    </tr>\n",
       "    <tr>\n",
       "      <th>...</th>\n",
       "      <td>...</td>\n",
       "      <td>...</td>\n",
       "      <td>...</td>\n",
       "      <td>...</td>\n",
       "      <td>...</td>\n",
       "      <td>...</td>\n",
       "    </tr>\n",
       "    <tr>\n",
       "      <th>5</th>\n",
       "      <td>6</td>\n",
       "      <td>2015-12-18</td>\n",
       "      <td>Star Wars Ep. VII: The Force Awakens</td>\n",
       "      <td>306000000</td>\n",
       "      <td>936662225</td>\n",
       "      <td>2053311220</td>\n",
       "    </tr>\n",
       "    <tr>\n",
       "      <th>4</th>\n",
       "      <td>5</td>\n",
       "      <td>2017-12-15</td>\n",
       "      <td>Star Wars Ep. VIII: The Last Jedi</td>\n",
       "      <td>317000000</td>\n",
       "      <td>620181382</td>\n",
       "      <td>1316721747</td>\n",
       "    </tr>\n",
       "    <tr>\n",
       "      <th>3</th>\n",
       "      <td>4</td>\n",
       "      <td>2015-05-01</td>\n",
       "      <td>Avengers: Age of Ultron</td>\n",
       "      <td>330600000</td>\n",
       "      <td>459005868</td>\n",
       "      <td>1403013963</td>\n",
       "    </tr>\n",
       "    <tr>\n",
       "      <th>2</th>\n",
       "      <td>3</td>\n",
       "      <td>2019-06-07</td>\n",
       "      <td>Dark Phoenix</td>\n",
       "      <td>350000000</td>\n",
       "      <td>42762350</td>\n",
       "      <td>149762350</td>\n",
       "    </tr>\n",
       "    <tr>\n",
       "      <th>1</th>\n",
       "      <td>2</td>\n",
       "      <td>2011-05-20</td>\n",
       "      <td>Pirates of the Caribbean: On Stranger Tides</td>\n",
       "      <td>410600000</td>\n",
       "      <td>241063875</td>\n",
       "      <td>1045663875</td>\n",
       "    </tr>\n",
       "  </tbody>\n",
       "</table>\n",
       "<p>2185 rows × 6 columns</p>\n",
       "</div>"
      ],
      "text/plain": [
       "      id release_date                                        movie  \\\n",
       "5780  81   2015-09-29                         A Plague So Pleasant   \n",
       "5777  78   2018-12-31                                       Red 11   \n",
       "5772  73   2012-01-13                                    Newlyweds   \n",
       "5771  72   2015-05-19                             Family Motocross   \n",
       "5760  61   2010-04-02                             Breaking Upwards   \n",
       "...   ..          ...                                          ...   \n",
       "5      6   2015-12-18         Star Wars Ep. VII: The Force Awakens   \n",
       "4      5   2017-12-15            Star Wars Ep. VIII: The Last Jedi   \n",
       "3      4   2015-05-01                      Avengers: Age of Ultron   \n",
       "2      3   2019-06-07                                 Dark Phoenix   \n",
       "1      2   2011-05-20  Pirates of the Caribbean: On Stranger Tides   \n",
       "\n",
       "      production_budget  domestic_gross  worldwide_gross  \n",
       "5780               1400               0                0  \n",
       "5777               7000               0                0  \n",
       "5772               9000            4584             4584  \n",
       "5771              10000               0                0  \n",
       "5760              15000          115592           115592  \n",
       "...                 ...             ...              ...  \n",
       "5             306000000       936662225       2053311220  \n",
       "4             317000000       620181382       1316721747  \n",
       "3             330600000       459005868       1403013963  \n",
       "2             350000000        42762350        149762350  \n",
       "1             410600000       241063875       1045663875  \n",
       "\n",
       "[2185 rows x 6 columns]"
      ]
     },
     "execution_count": 310,
     "metadata": {},
     "output_type": "execute_result"
    }
   ],
   "source": [
    "movie_budgets.sort_values(by='production_budget')"
   ]
  },
  {
   "cell_type": "code",
   "execution_count": 315,
   "metadata": {},
   "outputs": [
    {
     "data": {
      "text/plain": [
       "<seaborn.axisgrid.FacetGrid at 0x1a23010438>"
      ]
     },
     "execution_count": 315,
     "metadata": {},
     "output_type": "execute_result"
    },
    {
     "data": {
      "image/png": "[encoded data removed]",
      "text/plain": [
       "<Figure size 479.5x360 with 1 Axes>"
      ]
     },
     "metadata": {},
     "output_type": "display_data"
    }
   ],
   "source": [
    "g = sns.relplot(\n",
    "    data=movie_budgets,\n",
    "    x=\"production_budget\", y=\"domestic_gross\",\n",
    "    hue= \"production_budget\", size=\"production_budget\",\n",
    "    sizes=(10, 200),\n",
    ")\n",
    "g.fig.suptitle('Production Budget & Domestic Gross')\n",
    "g.set(xscale=\"linear\", yscale=\"linear\")\n",
    "g.ax.xaxis.grid(True, \"minor\", linewidth=.25)\n",
    "g.ax.yaxis.grid(True, \"minor\", linewidth=.25)\n",
    "g.despine(left=True, bottom=True)"
   ]
  },
  {
   "cell_type": "code",
   "execution_count": 305,
   "metadata": {},
   "outputs": [
    {
     "data": {
      "text/plain": [
       "array([[1.        , 0.73482153],\n",
       "       [0.73482153, 1.        ]])"
      ]
     },
     "execution_count": 305,
     "metadata": {},
     "output_type": "execute_result"
    }
   ],
   "source": [
    "np.corrcoef(x = movie_budgets['production_budget'],\n",
    "           y = movie_budgets['domestic_gross'])"
   ]
  },
  {
   "cell_type": "code",
   "execution_count": 306,
   "metadata": {},
   "outputs": [
    {
     "data": {
      "text/plain": [
       "array([[1.        , 0.79646255],\n",
       "       [0.79646255, 1.        ]])"
      ]
     },
     "execution_count": 306,
     "metadata": {},
     "output_type": "execute_result"
    }
   ],
   "source": [
    "np.corrcoef(x = movie_budgets['production_budget'],\n",
    "           y = movie_budgets['worldwide_gross'])"
   ]
  },
  {
   "cell_type": "code",
   "execution_count": 314,
   "metadata": {},
   "outputs": [
    {
     "data": {
      "text/plain": [
       "<seaborn.axisgrid.FacetGrid at 0x1a225ce828>"
      ]
     },
     "execution_count": 314,
     "metadata": {},
     "output_type": "execute_result"
    },
    {
     "data": {
      "image/png": "[encoded data removed]",
      "text/plain": [
       "<Figure size 479.5x360 with 1 Axes>"
      ]
     },
     "metadata": {},
     "output_type": "display_data"
    }
   ],
   "source": [
    "h = sns.relplot(\n",
    "    data=movie_budgets,\n",
    "    x=\"production_budget\", y=\"worldwide_gross\",\n",
    "    hue= \"production_budget\", size=\"production_budget\",\n",
    "    sizes=(10, 200),\n",
    ")\n",
    "h.fig.suptitle('Production Budget & Worldwide Gross')\n",
    "h.set(xscale=\"linear\", yscale=\"linear\")\n",
    "h.ax.xaxis.grid(True, \"minor\", linewidth=.25)\n",
    "h.ax.yaxis.grid(True, \"minor\", linewidth=.25)\n",
    "h.despine(left=True, bottom=True)"
   ]
  },
  {
   "cell_type": "markdown",
   "metadata": {},
   "source": [
    "## Find Return On Investment for each film | Which films have highest ROI? ##"
   ]
  },
  {
   "cell_type": "code",
   "execution_count": 316,
   "metadata": {},
   "outputs": [
    {
     "data": {
      "text/html": [
       "<div>\n",
       "<style scoped>\n",
       "    .dataframe tbody tr th:only-of-type {\n",
       "        vertical-align: middle;\n",
       "    }\n",
       "\n",
       "    .dataframe tbody tr th {\n",
       "        vertical-align: top;\n",
       "    }\n",
       "\n",
       "    .dataframe thead th {\n",
       "        text-align: right;\n",
       "    }\n",
       "</style>\n",
       "<table border=\"1\" class=\"dataframe\">\n",
       "  <thead>\n",
       "    <tr style=\"text-align: right;\">\n",
       "      <th></th>\n",
       "      <th>id</th>\n",
       "      <th>release_date</th>\n",
       "      <th>movie</th>\n",
       "      <th>production_budget</th>\n",
       "      <th>domestic_gross</th>\n",
       "      <th>worldwide_gross</th>\n",
       "    </tr>\n",
       "  </thead>\n",
       "  <tbody>\n",
       "    <tr>\n",
       "      <th>1</th>\n",
       "      <td>2</td>\n",
       "      <td>2011-05-20</td>\n",
       "      <td>Pirates of the Caribbean: On Stranger Tides</td>\n",
       "      <td>410600000</td>\n",
       "      <td>241063875</td>\n",
       "      <td>1045663875</td>\n",
       "    </tr>\n",
       "    <tr>\n",
       "      <th>2</th>\n",
       "      <td>3</td>\n",
       "      <td>2019-06-07</td>\n",
       "      <td>Dark Phoenix</td>\n",
       "      <td>350000000</td>\n",
       "      <td>42762350</td>\n",
       "      <td>149762350</td>\n",
       "    </tr>\n",
       "    <tr>\n",
       "      <th>3</th>\n",
       "      <td>4</td>\n",
       "      <td>2015-05-01</td>\n",
       "      <td>Avengers: Age of Ultron</td>\n",
       "      <td>330600000</td>\n",
       "      <td>459005868</td>\n",
       "      <td>1403013963</td>\n",
       "    </tr>\n",
       "    <tr>\n",
       "      <th>4</th>\n",
       "      <td>5</td>\n",
       "      <td>2017-12-15</td>\n",
       "      <td>Star Wars Ep. VIII: The Last Jedi</td>\n",
       "      <td>317000000</td>\n",
       "      <td>620181382</td>\n",
       "      <td>1316721747</td>\n",
       "    </tr>\n",
       "    <tr>\n",
       "      <th>5</th>\n",
       "      <td>6</td>\n",
       "      <td>2015-12-18</td>\n",
       "      <td>Star Wars Ep. VII: The Force Awakens</td>\n",
       "      <td>306000000</td>\n",
       "      <td>936662225</td>\n",
       "      <td>2053311220</td>\n",
       "    </tr>\n",
       "  </tbody>\n",
       "</table>\n",
       "</div>"
      ],
      "text/plain": [
       "   id release_date                                        movie  \\\n",
       "1   2   2011-05-20  Pirates of the Caribbean: On Stranger Tides   \n",
       "2   3   2019-06-07                                 Dark Phoenix   \n",
       "3   4   2015-05-01                      Avengers: Age of Ultron   \n",
       "4   5   2017-12-15            Star Wars Ep. VIII: The Last Jedi   \n",
       "5   6   2015-12-18         Star Wars Ep. VII: The Force Awakens   \n",
       "\n",
       "   production_budget  domestic_gross  worldwide_gross  \n",
       "1          410600000       241063875       1045663875  \n",
       "2          350000000        42762350        149762350  \n",
       "3          330600000       459005868       1403013963  \n",
       "4          317000000       620181382       1316721747  \n",
       "5          306000000       936662225       2053311220  "
      ]
     },
     "execution_count": 316,
     "metadata": {},
     "output_type": "execute_result"
    }
   ],
   "source": [
    "movie_budgets.head()"
   ]
  },
  {
   "cell_type": "code",
   "execution_count": 319,
   "metadata": {},
   "outputs": [
    {
     "name": "stderr",
     "output_type": "stream",
     "text": [
      "/Users/jordanrjohnson/opt/anaconda3/envs/learn-env/lib/python3.6/site-packages/ipykernel_launcher.py:1: SettingWithCopyWarning: \n",
      "A value is trying to be set on a copy of a slice from a DataFrame.\n",
      "Try using .loc[row_indexer,col_indexer] = value instead\n",
      "\n",
      "See the caveats in the documentation: http://pandas.pydata.org/pandas-docs/stable/user_guide/indexing.html#returning-a-view-versus-a-copy\n",
      "  \"\"\"Entry point for launching an IPython kernel.\n"
     ]
    },
    {
     "data": {
      "text/html": [
       "<div>\n",
       "<style scoped>\n",
       "    .dataframe tbody tr th:only-of-type {\n",
       "        vertical-align: middle;\n",
       "    }\n",
       "\n",
       "    .dataframe tbody tr th {\n",
       "        vertical-align: top;\n",
       "    }\n",
       "\n",
       "    .dataframe thead th {\n",
       "        text-align: right;\n",
       "    }\n",
       "</style>\n",
       "<table border=\"1\" class=\"dataframe\">\n",
       "  <thead>\n",
       "    <tr style=\"text-align: right;\">\n",
       "      <th></th>\n",
       "      <th>id</th>\n",
       "      <th>release_date</th>\n",
       "      <th>movie</th>\n",
       "      <th>production_budget</th>\n",
       "      <th>domestic_gross</th>\n",
       "      <th>worldwide_gross</th>\n",
       "      <th>roi</th>\n",
       "    </tr>\n",
       "  </thead>\n",
       "  <tbody>\n",
       "    <tr>\n",
       "      <th>1</th>\n",
       "      <td>2</td>\n",
       "      <td>2011-05-20</td>\n",
       "      <td>Pirates of the Caribbean: On Stranger Tides</td>\n",
       "      <td>410600000</td>\n",
       "      <td>241063875</td>\n",
       "      <td>1045663875</td>\n",
       "      <td>154.667286</td>\n",
       "    </tr>\n",
       "    <tr>\n",
       "      <th>2</th>\n",
       "      <td>3</td>\n",
       "      <td>2019-06-07</td>\n",
       "      <td>Dark Phoenix</td>\n",
       "      <td>350000000</td>\n",
       "      <td>42762350</td>\n",
       "      <td>149762350</td>\n",
       "      <td>-57.210757</td>\n",
       "    </tr>\n",
       "    <tr>\n",
       "      <th>3</th>\n",
       "      <td>4</td>\n",
       "      <td>2015-05-01</td>\n",
       "      <td>Avengers: Age of Ultron</td>\n",
       "      <td>330600000</td>\n",
       "      <td>459005868</td>\n",
       "      <td>1403013963</td>\n",
       "      <td>324.384139</td>\n",
       "    </tr>\n",
       "    <tr>\n",
       "      <th>4</th>\n",
       "      <td>5</td>\n",
       "      <td>2017-12-15</td>\n",
       "      <td>Star Wars Ep. VIII: The Last Jedi</td>\n",
       "      <td>317000000</td>\n",
       "      <td>620181382</td>\n",
       "      <td>1316721747</td>\n",
       "      <td>315.369636</td>\n",
       "    </tr>\n",
       "    <tr>\n",
       "      <th>5</th>\n",
       "      <td>6</td>\n",
       "      <td>2015-12-18</td>\n",
       "      <td>Star Wars Ep. VII: The Force Awakens</td>\n",
       "      <td>306000000</td>\n",
       "      <td>936662225</td>\n",
       "      <td>2053311220</td>\n",
       "      <td>571.016739</td>\n",
       "    </tr>\n",
       "  </tbody>\n",
       "</table>\n",
       "</div>"
      ],
      "text/plain": [
       "   id release_date                                        movie  \\\n",
       "1   2   2011-05-20  Pirates of the Caribbean: On Stranger Tides   \n",
       "2   3   2019-06-07                                 Dark Phoenix   \n",
       "3   4   2015-05-01                      Avengers: Age of Ultron   \n",
       "4   5   2017-12-15            Star Wars Ep. VIII: The Last Jedi   \n",
       "5   6   2015-12-18         Star Wars Ep. VII: The Force Awakens   \n",
       "\n",
       "   production_budget  domestic_gross  worldwide_gross         roi  \n",
       "1          410600000       241063875       1045663875  154.667286  \n",
       "2          350000000        42762350        149762350  -57.210757  \n",
       "3          330600000       459005868       1403013963  324.384139  \n",
       "4          317000000       620181382       1316721747  315.369636  \n",
       "5          306000000       936662225       2053311220  571.016739  "
      ]
     },
     "execution_count": 319,
     "metadata": {},
     "output_type": "execute_result"
    }
   ],
   "source": [
    "movie_budgets['roi'] = ((movie_budgets['worldwide_gross'] - movie_budgets['production_budget']) / movie_budgets['production_budget']) * 100\n",
    "movie_budgets.head()"
   ]
  },
  {
   "cell_type": "code",
   "execution_count": 326,
   "metadata": {},
   "outputs": [
    {
     "data": {
      "text/html": [
       "<div>\n",
       "<style scoped>\n",
       "    .dataframe tbody tr th:only-of-type {\n",
       "        vertical-align: middle;\n",
       "    }\n",
       "\n",
       "    .dataframe tbody tr th {\n",
       "        vertical-align: top;\n",
       "    }\n",
       "\n",
       "    .dataframe thead th {\n",
       "        text-align: right;\n",
       "    }\n",
       "</style>\n",
       "<table border=\"1\" class=\"dataframe\">\n",
       "  <thead>\n",
       "    <tr style=\"text-align: right;\">\n",
       "      <th></th>\n",
       "      <th>id</th>\n",
       "      <th>release_date</th>\n",
       "      <th>movie</th>\n",
       "      <th>production_budget</th>\n",
       "      <th>domestic_gross</th>\n",
       "      <th>worldwide_gross</th>\n",
       "      <th>roi</th>\n",
       "    </tr>\n",
       "  </thead>\n",
       "  <tbody>\n",
       "    <tr>\n",
       "      <th>5679</th>\n",
       "      <td>80</td>\n",
       "      <td>2015-07-10</td>\n",
       "      <td>The Gallows</td>\n",
       "      <td>100000</td>\n",
       "      <td>22764410</td>\n",
       "      <td>41656474</td>\n",
       "      <td>41556.474000</td>\n",
       "    </tr>\n",
       "    <tr>\n",
       "      <th>5211</th>\n",
       "      <td>12</td>\n",
       "      <td>2012-01-06</td>\n",
       "      <td>The Devil Inside</td>\n",
       "      <td>1000000</td>\n",
       "      <td>53262945</td>\n",
       "      <td>101759490</td>\n",
       "      <td>10075.949000</td>\n",
       "    </tr>\n",
       "    <tr>\n",
       "      <th>5062</th>\n",
       "      <td>63</td>\n",
       "      <td>2011-04-01</td>\n",
       "      <td>Insidious</td>\n",
       "      <td>1500000</td>\n",
       "      <td>54009150</td>\n",
       "      <td>99870886</td>\n",
       "      <td>6558.059067</td>\n",
       "    </tr>\n",
       "    <tr>\n",
       "      <th>5213</th>\n",
       "      <td>14</td>\n",
       "      <td>2015-04-17</td>\n",
       "      <td>Unfriended</td>\n",
       "      <td>1000000</td>\n",
       "      <td>32789645</td>\n",
       "      <td>64364198</td>\n",
       "      <td>6336.419800</td>\n",
       "    </tr>\n",
       "    <tr>\n",
       "      <th>4664</th>\n",
       "      <td>65</td>\n",
       "      <td>2010-10-20</td>\n",
       "      <td>Paranormal Activity 2</td>\n",
       "      <td>3000000</td>\n",
       "      <td>84752907</td>\n",
       "      <td>177512032</td>\n",
       "      <td>5817.067733</td>\n",
       "    </tr>\n",
       "    <tr>\n",
       "      <th>4249</th>\n",
       "      <td>50</td>\n",
       "      <td>2017-01-20</td>\n",
       "      <td>Split</td>\n",
       "      <td>5000000</td>\n",
       "      <td>138141585</td>\n",
       "      <td>278964806</td>\n",
       "      <td>5479.296120</td>\n",
       "    </tr>\n",
       "    <tr>\n",
       "      <th>5189</th>\n",
       "      <td>90</td>\n",
       "      <td>2014-03-21</td>\n",
       "      <td>Godâs Not Dead</td>\n",
       "      <td>1150000</td>\n",
       "      <td>60755732</td>\n",
       "      <td>63777092</td>\n",
       "      <td>5445.834087</td>\n",
       "    </tr>\n",
       "    <tr>\n",
       "      <th>4248</th>\n",
       "      <td>49</td>\n",
       "      <td>2017-02-24</td>\n",
       "      <td>Get Out</td>\n",
       "      <td>5000000</td>\n",
       "      <td>176040665</td>\n",
       "      <td>255367951</td>\n",
       "      <td>5007.359020</td>\n",
       "    </tr>\n",
       "    <tr>\n",
       "      <th>3517</th>\n",
       "      <td>18</td>\n",
       "      <td>2012-05-25</td>\n",
       "      <td>Les Intouchables</td>\n",
       "      <td>10800000</td>\n",
       "      <td>13182281</td>\n",
       "      <td>484873045</td>\n",
       "      <td>4389.565231</td>\n",
       "    </tr>\n",
       "    <tr>\n",
       "      <th>5063</th>\n",
       "      <td>64</td>\n",
       "      <td>2016-10-21</td>\n",
       "      <td>Moonlight</td>\n",
       "      <td>1500000</td>\n",
       "      <td>27854931</td>\n",
       "      <td>65245512</td>\n",
       "      <td>4249.700800</td>\n",
       "    </tr>\n",
       "    <tr>\n",
       "      <th>5217</th>\n",
       "      <td>18</td>\n",
       "      <td>2012-05-25</td>\n",
       "      <td>Chernobyl Diaries</td>\n",
       "      <td>1000000</td>\n",
       "      <td>18119640</td>\n",
       "      <td>42411721</td>\n",
       "      <td>4141.172100</td>\n",
       "    </tr>\n",
       "    <tr>\n",
       "      <th>4250</th>\n",
       "      <td>51</td>\n",
       "      <td>2011-10-21</td>\n",
       "      <td>Paranormal Activity 3</td>\n",
       "      <td>5000000</td>\n",
       "      <td>104028807</td>\n",
       "      <td>207039844</td>\n",
       "      <td>4040.796880</td>\n",
       "    </tr>\n",
       "    <tr>\n",
       "      <th>4083</th>\n",
       "      <td>84</td>\n",
       "      <td>2014-10-03</td>\n",
       "      <td>Annabelle</td>\n",
       "      <td>6500000</td>\n",
       "      <td>84273813</td>\n",
       "      <td>256862920</td>\n",
       "      <td>3851.737231</td>\n",
       "    </tr>\n",
       "    <tr>\n",
       "      <th>5014</th>\n",
       "      <td>15</td>\n",
       "      <td>2010-08-27</td>\n",
       "      <td>The Last Exorcism</td>\n",
       "      <td>1800000</td>\n",
       "      <td>41034350</td>\n",
       "      <td>70165900</td>\n",
       "      <td>3798.105556</td>\n",
       "    </tr>\n",
       "    <tr>\n",
       "      <th>4252</th>\n",
       "      <td>53</td>\n",
       "      <td>2013-09-13</td>\n",
       "      <td>Insidious Chapter 2</td>\n",
       "      <td>5000000</td>\n",
       "      <td>83586447</td>\n",
       "      <td>161921515</td>\n",
       "      <td>3138.430300</td>\n",
       "    </tr>\n",
       "    <tr>\n",
       "      <th>3755</th>\n",
       "      <td>56</td>\n",
       "      <td>2016-12-21</td>\n",
       "      <td>Dangal</td>\n",
       "      <td>9500000</td>\n",
       "      <td>12391761</td>\n",
       "      <td>294654618</td>\n",
       "      <td>3001.627558</td>\n",
       "    </tr>\n",
       "    <tr>\n",
       "      <th>5358</th>\n",
       "      <td>59</td>\n",
       "      <td>2011-12-30</td>\n",
       "      <td>Jodaeiye Nader az Simin</td>\n",
       "      <td>800000</td>\n",
       "      <td>7098492</td>\n",
       "      <td>24426169</td>\n",
       "      <td>2953.271125</td>\n",
       "    </tr>\n",
       "    <tr>\n",
       "      <th>4666</th>\n",
       "      <td>67</td>\n",
       "      <td>2013-06-07</td>\n",
       "      <td>The Purge</td>\n",
       "      <td>3000000</td>\n",
       "      <td>64473115</td>\n",
       "      <td>91266581</td>\n",
       "      <td>2942.219367</td>\n",
       "    </tr>\n",
       "    <tr>\n",
       "      <th>4254</th>\n",
       "      <td>55</td>\n",
       "      <td>2016-07-22</td>\n",
       "      <td>Lights Out</td>\n",
       "      <td>5000000</td>\n",
       "      <td>67268835</td>\n",
       "      <td>148806510</td>\n",
       "      <td>2876.130200</td>\n",
       "    </tr>\n",
       "    <tr>\n",
       "      <th>4668</th>\n",
       "      <td>69</td>\n",
       "      <td>2012-10-12</td>\n",
       "      <td>Sinister</td>\n",
       "      <td>3000000</td>\n",
       "      <td>48086903</td>\n",
       "      <td>87727807</td>\n",
       "      <td>2824.260233</td>\n",
       "    </tr>\n",
       "  </tbody>\n",
       "</table>\n",
       "</div>"
      ],
      "text/plain": [
       "      id release_date                    movie  production_budget  \\\n",
       "5679  80   2015-07-10              The Gallows             100000   \n",
       "5211  12   2012-01-06         The Devil Inside            1000000   \n",
       "5062  63   2011-04-01                Insidious            1500000   \n",
       "5213  14   2015-04-17               Unfriended            1000000   \n",
       "4664  65   2010-10-20    Paranormal Activity 2            3000000   \n",
       "4249  50   2017-01-20                    Split            5000000   \n",
       "5189  90   2014-03-21         Godâs Not Dead            1150000   \n",
       "4248  49   2017-02-24                  Get Out            5000000   \n",
       "3517  18   2012-05-25         Les Intouchables           10800000   \n",
       "5063  64   2016-10-21                Moonlight            1500000   \n",
       "5217  18   2012-05-25        Chernobyl Diaries            1000000   \n",
       "4250  51   2011-10-21    Paranormal Activity 3            5000000   \n",
       "4083  84   2014-10-03                Annabelle            6500000   \n",
       "5014  15   2010-08-27        The Last Exorcism            1800000   \n",
       "4252  53   2013-09-13      Insidious Chapter 2            5000000   \n",
       "3755  56   2016-12-21                   Dangal            9500000   \n",
       "5358  59   2011-12-30  Jodaeiye Nader az Simin             800000   \n",
       "4666  67   2013-06-07                The Purge            3000000   \n",
       "4254  55   2016-07-22               Lights Out            5000000   \n",
       "4668  69   2012-10-12                 Sinister            3000000   \n",
       "\n",
       "      domestic_gross  worldwide_gross           roi  \n",
       "5679        22764410         41656474  41556.474000  \n",
       "5211        53262945        101759490  10075.949000  \n",
       "5062        54009150         99870886   6558.059067  \n",
       "5213        32789645         64364198   6336.419800  \n",
       "4664        84752907        177512032   5817.067733  \n",
       "4249       138141585        278964806   5479.296120  \n",
       "5189        60755732         63777092   5445.834087  \n",
       "4248       176040665        255367951   5007.359020  \n",
       "3517        13182281        484873045   4389.565231  \n",
       "5063        27854931         65245512   4249.700800  \n",
       "5217        18119640         42411721   4141.172100  \n",
       "4250       104028807        207039844   4040.796880  \n",
       "4083        84273813        256862920   3851.737231  \n",
       "5014        41034350         70165900   3798.105556  \n",
       "4252        83586447        161921515   3138.430300  \n",
       "3755        12391761        294654618   3001.627558  \n",
       "5358         7098492         24426169   2953.271125  \n",
       "4666        64473115         91266581   2942.219367  \n",
       "4254        67268835        148806510   2876.130200  \n",
       "4668        48086903         87727807   2824.260233  "
      ]
     },
     "execution_count": 326,
     "metadata": {},
     "output_type": "execute_result"
    }
   ],
   "source": [
    "top_rois = movie_budgets.sort_values(by='roi', ascending=False).head(20)\n",
    "top_rois.head(20)"
   ]
  },
  {
   "cell_type": "code",
   "execution_count": 327,
   "metadata": {},
   "outputs": [
    {
     "data": {
      "text/plain": [
       "<matplotlib.axes._subplots.AxesSubplot at 0x1a2c464278>"
      ]
     },
     "execution_count": 327,
     "metadata": {},
     "output_type": "execute_result"
    },
    {
     "name": "stderr",
     "output_type": "stream",
     "text": [
      "/Users/jordanrjohnson/opt/anaconda3/envs/learn-env/lib/python3.6/site-packages/matplotlib/backends/backend_agg.py:211: RuntimeWarning: Glyph 128 missing from current font.\n",
      "  font.set_text(s, 0.0, flags=flags)\n",
      "/Users/jordanrjohnson/opt/anaconda3/envs/learn-env/lib/python3.6/site-packages/matplotlib/backends/backend_agg.py:211: RuntimeWarning: Glyph 153 missing from current font.\n",
      "  font.set_text(s, 0.0, flags=flags)\n",
      "/Users/jordanrjohnson/opt/anaconda3/envs/learn-env/lib/python3.6/site-packages/matplotlib/backends/backend_agg.py:180: RuntimeWarning: Glyph 128 missing from current font.\n",
      "  font.set_text(s, 0, flags=flags)\n",
      "/Users/jordanrjohnson/opt/anaconda3/envs/learn-env/lib/python3.6/site-packages/matplotlib/backends/backend_agg.py:180: RuntimeWarning: Glyph 153 missing from current font.\n",
      "  font.set_text(s, 0, flags=flags)\n"
     ]
    },
    {
     "data": {
      "image/png": "[encoded data removed]",
      "text/plain": [
       "<Figure size 432x288 with 1 Axes>"
      ]
     },
     "metadata": {},
     "output_type": "display_data"
    }
   ],
   "source": [
    "top_rois_plot = sns.barplot(data=top_rois,\n",
    "                      x='roi',\n",
    "                      y='movie',\n",
    "                     palette='Purples_d')\n",
    "\n",
    "top_rois_plot.set_title('Films with Highest ROIs')\n",
    "top_rois_plot.set_xlabel('ROI (%)')\n",
    "top_rois_plot"
   ]
  },
  {
   "cell_type": "markdown",
   "metadata": {},
   "source": [
    "## Question 2 Conclusion ##"
   ]
  },
  {
   "cell_type": "markdown",
   "metadata": {},
   "source": [
    "**Which films made the most money?**"
   ]
  },
  {
   "cell_type": "markdown",
   "metadata": {},
   "source": [
    "To answer this question, we can look at the tn.movie_budgets database, and narrow down our data set to find all films between 2010 and 2020. \n",
    "\n",
    "The first thing we should ask ourselves is: is there a relationship between the movie's production budget and the movie's gross earnings? When mapped in Seaborn's relplot, we can easily see this relationship. \n",
    "\n",
    "In \"Production Budget and Domestic Gross\", we can see that as the production budget increases, so does the domestic gross. We can see that most of the movies with budgets less than 100,000,000 dollars, do not make any more than 500,000,000 dollars in domestic gross earnings. Movies that made over 600,000,000 dollars all had production budgets of 200,000,000 dollars or more. Moreover, if we look at the correlation coefficient between production budget and domestic gross, we can see that there is somewhat strong correlation between the 2 variables (0.73).\n",
    "\n",
    "In \"Production Budget and Worldwide Gross\", we can see a similar trend. Our correlation coefficient between these 2 variables was 0.80, which indicates a stronger correlation than with domestic gross. It is interesting to note, that this correlation is not without exception. There were still various films with production budgets between 250,000,000 and 350,000,000 dollars with worldwide gross earnings less than 1,000,000,000 dollars. \n",
    "\n",
    "We can therefore conclude that there is a strong relationship between production budget and gross earnings, but what about your return on investment? We can also investigate the type of movies that would produce the highest returns. \n",
    "\n",
    "Calculating the ROI using the worldwide gross, we can see that many movies lost money (indicated by a negative ROI), but there were also many movies that made 50x or even 400x on their production budget. When we look at the top 20 movies with the highest ROIs, we can see right away that most of them are horror films. "
   ]
  },
  {
   "cell_type": "markdown",
   "metadata": {},
   "source": [
    "**Recommendations**"
   ]
  },
  {
   "cell_type": "markdown",
   "metadata": {},
   "source": [
    "Based on these findings, I would recommend that we should ask ourselves a follow-up question:\n",
    "\n",
    "   * *How big is our production budget?*\n",
    "    \n",
    "If we have a lot to invest, we should take into consideration our findings from question 1, and conclude that we can invest in a sci-fi/fantasy/superhero franchise or a film remake, use a large production budget, and make more gross earnings.\n",
    "\n",
    "However, if we do not want to invest so much, we should make a horror film, in order to receive a large ROI. "
   ]
  },
  {
   "cell_type": "code",
   "execution_count": null,
   "metadata": {},
   "outputs": [],
   "source": []
  }
 ],
 "metadata": {
  "kernelspec": {
   "display_name": "Python 3",
   "language": "python",
   "name": "python3"
  },
  "language_info": {
   "codemirror_mode": {
    "name": "ipython",
    "version": 3
   },
   "file_extension": ".py",
   "mimetype": "text/x-python",
   "name": "python",
   "nbconvert_exporter": "python",
   "pygments_lexer": "ipython3",
   "version": "3.6.9"
  }
 },
 "nbformat": 4,
 "nbformat_minor": 2
}
